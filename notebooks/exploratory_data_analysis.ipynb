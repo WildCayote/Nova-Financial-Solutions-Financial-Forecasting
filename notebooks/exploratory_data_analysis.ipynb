{
 "cells": [
  {
   "cell_type": "markdown",
   "metadata": {},
   "source": [
    "### Import Statements"
   ]
  },
  {
   "cell_type": "code",
   "execution_count": 163,
   "metadata": {},
   "outputs": [],
   "source": [
    "import os, nltk, string\n",
    "import numpy as np\n",
    "import pandas as pd\n",
    "import seaborn as sns\n",
    "from collections import Counter\n",
    "from statsmodels.tsa.seasonal import seasonal_decompose\n",
    "from matplotlib import pyplot as plt\n",
    "from nltk.corpus import stopwords\n",
    "from nltk.sentiment.vader import SentimentIntensityAnalyzer\n",
    "from nltk.tokenize import word_tokenize"
   ]
  },
  {
   "cell_type": "code",
   "execution_count": 164,
   "metadata": {},
   "outputs": [],
   "source": [
    "# setting seaborn as the default style\n",
    "sns.set_theme()"
   ]
  },
  {
   "cell_type": "markdown",
   "metadata": {},
   "source": [
    "### Constants"
   ]
  },
  {
   "cell_type": "code",
   "execution_count": 165,
   "metadata": {},
   "outputs": [],
   "source": [
    "BASE_PATH = '../data'\n",
    "NEWS_DATA_PATH = os.path.join(BASE_PATH , 'raw_analyst_ratings.csv')"
   ]
  },
  {
   "cell_type": "markdown",
   "metadata": {},
   "source": [
    "### Load data"
   ]
  },
  {
   "cell_type": "code",
   "execution_count": 166,
   "metadata": {},
   "outputs": [],
   "source": [
    "news_df = pd.read_csv(NEWS_DATA_PATH , index_col=False)"
   ]
  },
  {
   "cell_type": "code",
   "execution_count": 167,
   "metadata": {},
   "outputs": [],
   "source": [
    "# remove the index column\n",
    "news_df = news_df.drop(columns=['Unnamed: 0'])"
   ]
  },
  {
   "cell_type": "markdown",
   "metadata": {},
   "source": [
    "### 1) Descriptive Statistics"
   ]
  },
  {
   "cell_type": "markdown",
   "metadata": {},
   "source": [
    "* Look for missing values in every column"
   ]
  },
  {
   "cell_type": "code",
   "execution_count": 168,
   "metadata": {},
   "outputs": [
    {
     "data": {
      "text/plain": [
       "headline     1.0\n",
       "url          1.0\n",
       "publisher    1.0\n",
       "date         1.0\n",
       "stock        1.0\n",
       "dtype: float64"
      ]
     },
     "execution_count": 168,
     "metadata": {},
     "output_type": "execute_result"
    }
   ],
   "source": [
    "news_df.count() / news_df.shape[0]"
   ]
  },
  {
   "cell_type": "markdown",
   "metadata": {},
   "source": [
    "There are no missing values in any of the columns."
   ]
  },
  {
   "cell_type": "markdown",
   "metadata": {},
   "source": [
    "* Count the number of publishers"
   ]
  },
  {
   "cell_type": "code",
   "execution_count": 169,
   "metadata": {},
   "outputs": [],
   "source": [
    "publisher_count = news_df['publisher'].nunique()"
   ]
  },
  {
   "cell_type": "code",
   "execution_count": 170,
   "metadata": {},
   "outputs": [
    {
     "name": "stdout",
     "output_type": "stream",
     "text": [
      "There are 1034 unique publishers in the dataset\n"
     ]
    }
   ],
   "source": [
    "print(f'There are {publisher_count} unique publishers in the dataset')"
   ]
  },
  {
   "cell_type": "markdown",
   "metadata": {},
   "source": [
    "* Count the number of articles per publisher and arrange them in descending order based on the number of articles published. The print the top publishers."
   ]
  },
  {
   "cell_type": "code",
   "execution_count": 171,
   "metadata": {},
   "outputs": [],
   "source": [
    "publisher_grouping = news_df.groupby('publisher').count().sort_values(by='headline' , ascending=False)"
   ]
  },
  {
   "cell_type": "markdown",
   "metadata": {},
   "source": [
    "Print the top 50 publishers , by amount of publishes"
   ]
  },
  {
   "cell_type": "code",
   "execution_count": 172,
   "metadata": {},
   "outputs": [
    {
     "data": {
      "text/html": [
       "<div>\n",
       "<style scoped>\n",
       "    .dataframe tbody tr th:only-of-type {\n",
       "        vertical-align: middle;\n",
       "    }\n",
       "\n",
       "    .dataframe tbody tr th {\n",
       "        vertical-align: top;\n",
       "    }\n",
       "\n",
       "    .dataframe thead th {\n",
       "        text-align: right;\n",
       "    }\n",
       "</style>\n",
       "<table border=\"1\" class=\"dataframe\">\n",
       "  <thead>\n",
       "    <tr style=\"text-align: right;\">\n",
       "      <th></th>\n",
       "      <th>headline</th>\n",
       "      <th>url</th>\n",
       "      <th>date</th>\n",
       "      <th>stock</th>\n",
       "    </tr>\n",
       "    <tr>\n",
       "      <th>publisher</th>\n",
       "      <th></th>\n",
       "      <th></th>\n",
       "      <th></th>\n",
       "      <th></th>\n",
       "    </tr>\n",
       "  </thead>\n",
       "  <tbody>\n",
       "    <tr>\n",
       "      <th>Paul Quintaro</th>\n",
       "      <td>228373</td>\n",
       "      <td>228373</td>\n",
       "      <td>228373</td>\n",
       "      <td>228373</td>\n",
       "    </tr>\n",
       "    <tr>\n",
       "      <th>Lisa Levin</th>\n",
       "      <td>186979</td>\n",
       "      <td>186979</td>\n",
       "      <td>186979</td>\n",
       "      <td>186979</td>\n",
       "    </tr>\n",
       "    <tr>\n",
       "      <th>Benzinga Newsdesk</th>\n",
       "      <td>150484</td>\n",
       "      <td>150484</td>\n",
       "      <td>150484</td>\n",
       "      <td>150484</td>\n",
       "    </tr>\n",
       "    <tr>\n",
       "      <th>Charles Gross</th>\n",
       "      <td>96732</td>\n",
       "      <td>96732</td>\n",
       "      <td>96732</td>\n",
       "      <td>96732</td>\n",
       "    </tr>\n",
       "    <tr>\n",
       "      <th>Monica Gerson</th>\n",
       "      <td>82380</td>\n",
       "      <td>82380</td>\n",
       "      <td>82380</td>\n",
       "      <td>82380</td>\n",
       "    </tr>\n",
       "    <tr>\n",
       "      <th>Eddie Staley</th>\n",
       "      <td>57254</td>\n",
       "      <td>57254</td>\n",
       "      <td>57254</td>\n",
       "      <td>57254</td>\n",
       "    </tr>\n",
       "    <tr>\n",
       "      <th>Hal Lindon</th>\n",
       "      <td>49047</td>\n",
       "      <td>49047</td>\n",
       "      <td>49047</td>\n",
       "      <td>49047</td>\n",
       "    </tr>\n",
       "    <tr>\n",
       "      <th>ETF Professor</th>\n",
       "      <td>28489</td>\n",
       "      <td>28489</td>\n",
       "      <td>28489</td>\n",
       "      <td>28489</td>\n",
       "    </tr>\n",
       "    <tr>\n",
       "      <th>Juan Lopez</th>\n",
       "      <td>28438</td>\n",
       "      <td>28438</td>\n",
       "      <td>28438</td>\n",
       "      <td>28438</td>\n",
       "    </tr>\n",
       "    <tr>\n",
       "      <th>Benzinga Staff</th>\n",
       "      <td>28114</td>\n",
       "      <td>28114</td>\n",
       "      <td>28114</td>\n",
       "      <td>28114</td>\n",
       "    </tr>\n",
       "    <tr>\n",
       "      <th>Vick Meyer</th>\n",
       "      <td>24826</td>\n",
       "      <td>24826</td>\n",
       "      <td>24826</td>\n",
       "      <td>24826</td>\n",
       "    </tr>\n",
       "    <tr>\n",
       "      <th>webmaster</th>\n",
       "      <td>20313</td>\n",
       "      <td>20313</td>\n",
       "      <td>20313</td>\n",
       "      <td>20313</td>\n",
       "    </tr>\n",
       "    <tr>\n",
       "      <th>Benzinga_Newsdesk</th>\n",
       "      <td>19410</td>\n",
       "      <td>19410</td>\n",
       "      <td>19410</td>\n",
       "      <td>19410</td>\n",
       "    </tr>\n",
       "    <tr>\n",
       "      <th>Zacks</th>\n",
       "      <td>19390</td>\n",
       "      <td>19390</td>\n",
       "      <td>19390</td>\n",
       "      <td>19390</td>\n",
       "    </tr>\n",
       "    <tr>\n",
       "      <th>Jayson Derrick</th>\n",
       "      <td>19050</td>\n",
       "      <td>19050</td>\n",
       "      <td>19050</td>\n",
       "      <td>19050</td>\n",
       "    </tr>\n",
       "    <tr>\n",
       "      <th>Allie Wickman</th>\n",
       "      <td>18317</td>\n",
       "      <td>18317</td>\n",
       "      <td>18317</td>\n",
       "      <td>18317</td>\n",
       "    </tr>\n",
       "    <tr>\n",
       "      <th>Shanthi Rexaline</th>\n",
       "      <td>16640</td>\n",
       "      <td>16640</td>\n",
       "      <td>16640</td>\n",
       "      <td>16640</td>\n",
       "    </tr>\n",
       "    <tr>\n",
       "      <th>Craig Jones</th>\n",
       "      <td>16221</td>\n",
       "      <td>16221</td>\n",
       "      <td>16221</td>\n",
       "      <td>16221</td>\n",
       "    </tr>\n",
       "    <tr>\n",
       "      <th>Wayne Duggan</th>\n",
       "      <td>12897</td>\n",
       "      <td>12897</td>\n",
       "      <td>12897</td>\n",
       "      <td>12897</td>\n",
       "    </tr>\n",
       "    <tr>\n",
       "      <th>Nelson Hem</th>\n",
       "      <td>12590</td>\n",
       "      <td>12590</td>\n",
       "      <td>12590</td>\n",
       "      <td>12590</td>\n",
       "    </tr>\n",
       "    <tr>\n",
       "      <th>Dwight Einhorn</th>\n",
       "      <td>12226</td>\n",
       "      <td>12226</td>\n",
       "      <td>12226</td>\n",
       "      <td>12226</td>\n",
       "    </tr>\n",
       "    <tr>\n",
       "      <th>Michael J. Zerinskas</th>\n",
       "      <td>10892</td>\n",
       "      <td>10892</td>\n",
       "      <td>10892</td>\n",
       "      <td>10892</td>\n",
       "    </tr>\n",
       "    <tr>\n",
       "      <th>Joe Young</th>\n",
       "      <td>10777</td>\n",
       "      <td>10777</td>\n",
       "      <td>10777</td>\n",
       "      <td>10777</td>\n",
       "    </tr>\n",
       "    <tr>\n",
       "      <th>Javier Hasse</th>\n",
       "      <td>8839</td>\n",
       "      <td>8839</td>\n",
       "      <td>8839</td>\n",
       "      <td>8839</td>\n",
       "    </tr>\n",
       "    <tr>\n",
       "      <th>David Johnson</th>\n",
       "      <td>8749</td>\n",
       "      <td>8749</td>\n",
       "      <td>8749</td>\n",
       "      <td>8749</td>\n",
       "    </tr>\n",
       "    <tr>\n",
       "      <th>Matthew Kennedy</th>\n",
       "      <td>8167</td>\n",
       "      <td>8167</td>\n",
       "      <td>8167</td>\n",
       "      <td>8167</td>\n",
       "    </tr>\n",
       "    <tr>\n",
       "      <th>Forex Live</th>\n",
       "      <td>7198</td>\n",
       "      <td>7198</td>\n",
       "      <td>7198</td>\n",
       "      <td>7198</td>\n",
       "    </tr>\n",
       "    <tr>\n",
       "      <th>Laura Brodbeck</th>\n",
       "      <td>7069</td>\n",
       "      <td>7069</td>\n",
       "      <td>7069</td>\n",
       "      <td>7069</td>\n",
       "    </tr>\n",
       "    <tr>\n",
       "      <th>Scott Rubin</th>\n",
       "      <td>6553</td>\n",
       "      <td>6553</td>\n",
       "      <td>6553</td>\n",
       "      <td>6553</td>\n",
       "    </tr>\n",
       "    <tr>\n",
       "      <th>Jake L'Ecuyer</th>\n",
       "      <td>5810</td>\n",
       "      <td>5810</td>\n",
       "      <td>5810</td>\n",
       "      <td>5810</td>\n",
       "    </tr>\n",
       "    <tr>\n",
       "      <th>Roger Nachman</th>\n",
       "      <td>5510</td>\n",
       "      <td>5510</td>\n",
       "      <td>5510</td>\n",
       "      <td>5510</td>\n",
       "    </tr>\n",
       "    <tr>\n",
       "      <th>luke@benzinga.com</th>\n",
       "      <td>5198</td>\n",
       "      <td>5198</td>\n",
       "      <td>5198</td>\n",
       "      <td>5198</td>\n",
       "    </tr>\n",
       "    <tr>\n",
       "      <th>Jonathan Chen</th>\n",
       "      <td>4795</td>\n",
       "      <td>4795</td>\n",
       "      <td>4795</td>\n",
       "      <td>4795</td>\n",
       "    </tr>\n",
       "    <tr>\n",
       "      <th>Garrett Cook</th>\n",
       "      <td>4646</td>\n",
       "      <td>4646</td>\n",
       "      <td>4646</td>\n",
       "      <td>4646</td>\n",
       "    </tr>\n",
       "    <tr>\n",
       "      <th>Benzinga Insights</th>\n",
       "      <td>4371</td>\n",
       "      <td>4371</td>\n",
       "      <td>4371</td>\n",
       "      <td>4371</td>\n",
       "    </tr>\n",
       "    <tr>\n",
       "      <th>Benzinga Staff 5</th>\n",
       "      <td>4068</td>\n",
       "      <td>4068</td>\n",
       "      <td>4068</td>\n",
       "      <td>4068</td>\n",
       "    </tr>\n",
       "    <tr>\n",
       "      <th>optionsXpress</th>\n",
       "      <td>3842</td>\n",
       "      <td>3842</td>\n",
       "      <td>3842</td>\n",
       "      <td>3842</td>\n",
       "    </tr>\n",
       "    <tr>\n",
       "      <th>Manikandan Raman</th>\n",
       "      <td>3837</td>\n",
       "      <td>3837</td>\n",
       "      <td>3837</td>\n",
       "      <td>3837</td>\n",
       "    </tr>\n",
       "    <tr>\n",
       "      <th>Elizabeth Balboa</th>\n",
       "      <td>3804</td>\n",
       "      <td>3804</td>\n",
       "      <td>3804</td>\n",
       "      <td>3804</td>\n",
       "    </tr>\n",
       "    <tr>\n",
       "      <th>Benzinga News Desk</th>\n",
       "      <td>3782</td>\n",
       "      <td>3782</td>\n",
       "      <td>3782</td>\n",
       "      <td>3782</td>\n",
       "    </tr>\n",
       "    <tr>\n",
       "      <th>BenzingaStaffJ</th>\n",
       "      <td>3616</td>\n",
       "      <td>3616</td>\n",
       "      <td>3616</td>\n",
       "      <td>3616</td>\n",
       "    </tr>\n",
       "    <tr>\n",
       "      <th>Jim Swanson</th>\n",
       "      <td>3606</td>\n",
       "      <td>3606</td>\n",
       "      <td>3606</td>\n",
       "      <td>3606</td>\n",
       "    </tr>\n",
       "    <tr>\n",
       "      <th>JJ Kinahan</th>\n",
       "      <td>3583</td>\n",
       "      <td>3583</td>\n",
       "      <td>3583</td>\n",
       "      <td>3583</td>\n",
       "    </tr>\n",
       "    <tr>\n",
       "      <th>Benzinga Newsdesk</th>\n",
       "      <td>3580</td>\n",
       "      <td>3580</td>\n",
       "      <td>3580</td>\n",
       "      <td>3580</td>\n",
       "    </tr>\n",
       "    <tr>\n",
       "      <th>John Seward</th>\n",
       "      <td>3576</td>\n",
       "      <td>3576</td>\n",
       "      <td>3576</td>\n",
       "      <td>3576</td>\n",
       "    </tr>\n",
       "    <tr>\n",
       "      <th>FreightWaves</th>\n",
       "      <td>3543</td>\n",
       "      <td>3543</td>\n",
       "      <td>3543</td>\n",
       "      <td>3543</td>\n",
       "    </tr>\n",
       "    <tr>\n",
       "      <th>Matthew Kanterman</th>\n",
       "      <td>3218</td>\n",
       "      <td>3218</td>\n",
       "      <td>3218</td>\n",
       "      <td>3218</td>\n",
       "    </tr>\n",
       "    <tr>\n",
       "      <th>Louis Bedigian</th>\n",
       "      <td>2976</td>\n",
       "      <td>2976</td>\n",
       "      <td>2976</td>\n",
       "      <td>2976</td>\n",
       "    </tr>\n",
       "    <tr>\n",
       "      <th>Brett Hershman</th>\n",
       "      <td>2859</td>\n",
       "      <td>2859</td>\n",
       "      <td>2859</td>\n",
       "      <td>2859</td>\n",
       "    </tr>\n",
       "    <tr>\n",
       "      <th>Daniel Hayden IV</th>\n",
       "      <td>2813</td>\n",
       "      <td>2813</td>\n",
       "      <td>2813</td>\n",
       "      <td>2813</td>\n",
       "    </tr>\n",
       "  </tbody>\n",
       "</table>\n",
       "</div>"
      ],
      "text/plain": [
       "                      headline     url    date   stock\n",
       "publisher                                             \n",
       "Paul Quintaro           228373  228373  228373  228373\n",
       "Lisa Levin              186979  186979  186979  186979\n",
       "Benzinga Newsdesk       150484  150484  150484  150484\n",
       "Charles Gross            96732   96732   96732   96732\n",
       "Monica Gerson            82380   82380   82380   82380\n",
       "Eddie Staley             57254   57254   57254   57254\n",
       "Hal Lindon               49047   49047   49047   49047\n",
       "ETF Professor            28489   28489   28489   28489\n",
       "Juan Lopez               28438   28438   28438   28438\n",
       "Benzinga Staff           28114   28114   28114   28114\n",
       "Vick Meyer               24826   24826   24826   24826\n",
       "webmaster                20313   20313   20313   20313\n",
       "Benzinga_Newsdesk        19410   19410   19410   19410\n",
       "Zacks                    19390   19390   19390   19390\n",
       "Jayson Derrick           19050   19050   19050   19050\n",
       "Allie Wickman            18317   18317   18317   18317\n",
       "Shanthi Rexaline         16640   16640   16640   16640\n",
       "Craig Jones              16221   16221   16221   16221\n",
       "Wayne Duggan             12897   12897   12897   12897\n",
       "Nelson Hem               12590   12590   12590   12590\n",
       "Dwight Einhorn           12226   12226   12226   12226\n",
       "Michael J. Zerinskas     10892   10892   10892   10892\n",
       "Joe Young                10777   10777   10777   10777\n",
       "Javier Hasse              8839    8839    8839    8839\n",
       "David Johnson             8749    8749    8749    8749\n",
       "Matthew Kennedy           8167    8167    8167    8167\n",
       "Forex Live                7198    7198    7198    7198\n",
       "Laura Brodbeck            7069    7069    7069    7069\n",
       "Scott Rubin               6553    6553    6553    6553\n",
       "Jake L'Ecuyer             5810    5810    5810    5810\n",
       "Roger Nachman             5510    5510    5510    5510\n",
       "luke@benzinga.com         5198    5198    5198    5198\n",
       "Jonathan Chen             4795    4795    4795    4795\n",
       "Garrett Cook              4646    4646    4646    4646\n",
       "Benzinga Insights         4371    4371    4371    4371\n",
       "Benzinga Staff 5          4068    4068    4068    4068\n",
       "optionsXpress             3842    3842    3842    3842\n",
       "Manikandan Raman          3837    3837    3837    3837\n",
       "Elizabeth Balboa          3804    3804    3804    3804\n",
       "Benzinga News Desk        3782    3782    3782    3782\n",
       "BenzingaStaffJ            3616    3616    3616    3616\n",
       "Jim Swanson               3606    3606    3606    3606\n",
       "JJ Kinahan                3583    3583    3583    3583\n",
       "Benzinga Newsdesk         3580    3580    3580    3580\n",
       "John Seward               3576    3576    3576    3576\n",
       "FreightWaves              3543    3543    3543    3543\n",
       "Matthew Kanterman         3218    3218    3218    3218\n",
       "Louis Bedigian            2976    2976    2976    2976\n",
       "Brett Hershman            2859    2859    2859    2859\n",
       "Daniel Hayden IV          2813    2813    2813    2813"
      ]
     },
     "execution_count": 172,
     "metadata": {},
     "output_type": "execute_result"
    }
   ],
   "source": [
    "publisher_grouping.head(n=50)"
   ]
  },
  {
   "cell_type": "markdown",
   "metadata": {},
   "source": [
    "* Length of headlines\n",
    "\n",
    "Find the length of the headlines and add them to a new column called 'headline_len'. Use a lambda funciton to obtain the length of the headlines."
   ]
  },
  {
   "cell_type": "code",
   "execution_count": 173,
   "metadata": {},
   "outputs": [],
   "source": [
    "news_df[\"headline_len\"] = news_df[\"headline\"].apply( lambda x : len(x))"
   ]
  },
  {
   "cell_type": "markdown",
   "metadata": {},
   "source": [
    "Basic statistics for the headline length and produce a box plot for showing outliers"
   ]
  },
  {
   "cell_type": "code",
   "execution_count": 174,
   "metadata": {},
   "outputs": [
    {
     "data": {
      "text/plain": [
       "count    1.407328e+06\n",
       "mean     7.312051e+01\n",
       "std      4.073531e+01\n",
       "min      3.000000e+00\n",
       "25%      4.700000e+01\n",
       "50%      6.400000e+01\n",
       "75%      8.700000e+01\n",
       "max      5.120000e+02\n",
       "Name: headline_len, dtype: float64"
      ]
     },
     "execution_count": 174,
     "metadata": {},
     "output_type": "execute_result"
    }
   ],
   "source": [
    "news_df[\"headline_len\"].describe()"
   ]
  },
  {
   "cell_type": "markdown",
   "metadata": {},
   "source": [
    "5 number summary for the headline length:\n",
    "* The shortest headline has **3** words/characters in it.\n",
    "* The longest headline has **512** words/characters in it.\n",
    "* On average a headline has **40.7** words/characters in it.\n",
    "* The 25th percentile has **47** words/characters in it.\n",
    "* The 75th percentile has **87** words/cahracters in it."
   ]
  },
  {
   "cell_type": "code",
   "execution_count": 175,
   "metadata": {},
   "outputs": [
    {
     "data": {
      "text/plain": [
       "<Axes: ylabel='headline_len'>"
      ]
     },
     "execution_count": 175,
     "metadata": {},
     "output_type": "execute_result"
    },
    {
     "data": {
      "image/png": "[encoded data removed]",
      "text/plain": [
       "<Figure size 640x480 with 1 Axes>"
      ]
     },
     "metadata": {},
     "output_type": "display_data"
    }
   ],
   "source": [
    "# let us drow a box plot\n",
    "sns.boxplot(data=news_df[\"headline_len\"])"
   ]
  },
  {
   "cell_type": "markdown",
   "metadata": {},
   "source": [
    "We can see that the shape of our data is right-skewed"
   ]
  },
  {
   "cell_type": "markdown",
   "metadata": {},
   "source": [
    "* Now let us analyze the publication dates , to indentify trends on when articles come out"
   ]
  },
  {
   "cell_type": "code",
   "execution_count": 176,
   "metadata": {},
   "outputs": [],
   "source": [
    "# let us convert the date string to pd.DateTime object\n",
    "news_df['date_conv'] = pd.to_datetime(news_df['date'] , utc=True , format=\"mixed\")"
   ]
  },
  {
   "cell_type": "code",
   "execution_count": 177,
   "metadata": {},
   "outputs": [],
   "source": [
    "# now let us breakdown the pd.DateTime object to hour , day and month\n",
    "news_df['hour'] = news_df['date_conv'].dt.hour\n",
    "news_df['day'] = news_df['date_conv'].dt.day_name()\n",
    "news_df['month'] = news_df['date_conv'].dt.month_name()"
   ]
  },
  {
   "cell_type": "markdown",
   "metadata": {},
   "source": [
    "Let us arrange the orders of the days and also the month, since it uses values of the results rather than the order of the days or the months"
   ]
  },
  {
   "cell_type": "code",
   "execution_count": 178,
   "metadata": {},
   "outputs": [],
   "source": [
    "# Order of the months\n",
    "month_order = ['January', 'February', 'March', 'April', 'May', 'June', \n",
    "               'July', 'August', 'September', 'October', 'November', 'December']\n",
    "\n",
    "# Order of the days\n",
    "day_order = [\"Monday\", \"Tuesday\", \"Wednesday\", \"Thursday\", \"Friday\", \"Saturday\", \"Sunday\"]\n",
    "\n",
    "# Convert the 'month' column to a categorical type with a specific order\n",
    "news_df['month'] = pd.Categorical(news_df['month'], categories=month_order, ordered=True)\n",
    "\n",
    "# Convert the 'day' column to a categorical type with a specific order\n",
    "news_df['day'] = pd.Categorical(news_df['day'], categories=day_order, ordered=True)\n"
   ]
  },
  {
   "cell_type": "code",
   "execution_count": 179,
   "metadata": {},
   "outputs": [
    {
     "data": {
      "text/plain": [
       "hour\n",
       "0     0.960311\n",
       "14    0.005449\n",
       "13    0.004239\n",
       "16    0.004073\n",
       "15    0.004051\n",
       "12    0.003927\n",
       "11    0.003576\n",
       "20    0.002799\n",
       "21    0.001990\n",
       "17    0.001926\n",
       "10    0.001759\n",
       "18    0.001474\n",
       "9     0.001300\n",
       "19    0.001145\n",
       "8     0.001044\n",
       "22    0.000500\n",
       "23    0.000161\n",
       "7     0.000066\n",
       "1     0.000058\n",
       "4     0.000048\n",
       "6     0.000041\n",
       "2     0.000034\n",
       "3     0.000019\n",
       "5     0.000010\n",
       "Name: proportion, dtype: float64"
      ]
     },
     "execution_count": 179,
     "metadata": {},
     "output_type": "execute_result"
    }
   ],
   "source": [
    "news_df['hour'].value_counts(normalize=True)"
   ]
  },
  {
   "cell_type": "code",
   "execution_count": 180,
   "metadata": {},
   "outputs": [
    {
     "data": {
      "text/plain": [
       "<Axes: xlabel='hour', ylabel='proportion'>"
      ]
     },
     "execution_count": 180,
     "metadata": {},
     "output_type": "execute_result"
    },
    {
     "data": {
      "image/png": "[encoded data removed]",
      "text/plain": [
       "<Figure size 640x480 with 1 Axes>"
      ]
     },
     "metadata": {},
     "output_type": "display_data"
    }
   ],
   "source": [
    "sns.barplot(news_df['hour'].value_counts(normalize=True))"
   ]
  },
  {
   "cell_type": "markdown",
   "metadata": {},
   "source": [
    "As we can see from the plot and also the print of the hours in which the news articles are published: \n",
    "* 96.03% of the articles are published at hour 0 (12 AM) "
   ]
  },
  {
   "cell_type": "markdown",
   "metadata": {},
   "source": [
    "Now let us look at the days of the weeks where articles are published"
   ]
  },
  {
   "cell_type": "code",
   "execution_count": 181,
   "metadata": {},
   "outputs": [
    {
     "data": {
      "text/plain": [
       "day\n",
       "Thursday     0.215031\n",
       "Wednesday    0.213825\n",
       "Tuesday      0.210686\n",
       "Monday       0.188399\n",
       "Friday       0.154845\n",
       "Sunday       0.011700\n",
       "Saturday     0.005513\n",
       "Name: proportion, dtype: float64"
      ]
     },
     "execution_count": 181,
     "metadata": {},
     "output_type": "execute_result"
    }
   ],
   "source": [
    "news_df['day'].value_counts(normalize=True)"
   ]
  },
  {
   "cell_type": "code",
   "execution_count": 182,
   "metadata": {},
   "outputs": [
    {
     "data": {
      "text/plain": [
       "<Axes: xlabel='day', ylabel='proportion'>"
      ]
     },
     "execution_count": 182,
     "metadata": {},
     "output_type": "execute_result"
    },
    {
     "data": {
      "image/png": "[encoded data removed]",
      "text/plain": [
       "<Figure size 640x480 with 1 Axes>"
      ]
     },
     "metadata": {},
     "output_type": "display_data"
    }
   ],
   "source": [
    "sns.barplot(news_df['day'].value_counts(normalize=True))"
   ]
  },
  {
   "cell_type": "markdown",
   "metadata": {},
   "source": [
    "From the print and the plot we can conclude that:\n",
    "* **Weekdays** have significantly higher rates of articles getting published , the lowest being **Friday** (where **15.48%** of articles are pubished)\n",
    "* For **weekends** **1.17%** of articles are published on Sunday while **0.55%** of articles are published on **Saturday**\n",
    "* **Thrusday** , **Wednesday** and **Tuesday** have around the same values with values each at **21%** \n",
    "* **18.8%** articles were published on **Monday**."
   ]
  },
  {
   "cell_type": "code",
   "execution_count": 183,
   "metadata": {},
   "outputs": [
    {
     "data": {
      "text/plain": [
       "month\n",
       "May          0.092615\n",
       "October      0.088679\n",
       "August       0.088139\n",
       "February     0.087283\n",
       "March        0.086653\n",
       "April        0.086556\n",
       "January      0.086366\n",
       "November     0.086284\n",
       "July         0.078705\n",
       "June         0.075745\n",
       "December     0.074697\n",
       "September    0.068278\n",
       "Name: proportion, dtype: float64"
      ]
     },
     "execution_count": 183,
     "metadata": {},
     "output_type": "execute_result"
    }
   ],
   "source": [
    "news_df['month'].value_counts(normalize=True)"
   ]
  },
  {
   "cell_type": "code",
   "execution_count": 184,
   "metadata": {},
   "outputs": [
    {
     "data": {
      "text/plain": [
       "([0, 1, 2, 3, 4, 5, 6, 7, 8, 9, 10, 11],\n",
       " [Text(0, 0, 'January'),\n",
       "  Text(1, 0, 'February'),\n",
       "  Text(2, 0, 'March'),\n",
       "  Text(3, 0, 'April'),\n",
       "  Text(4, 0, 'May'),\n",
       "  Text(5, 0, 'June'),\n",
       "  Text(6, 0, 'July'),\n",
       "  Text(7, 0, 'August'),\n",
       "  Text(8, 0, 'September'),\n",
       "  Text(9, 0, 'October'),\n",
       "  Text(10, 0, 'November'),\n",
       "  Text(11, 0, 'December')])"
      ]
     },
     "execution_count": 184,
     "metadata": {},
     "output_type": "execute_result"
    },
    {
     "data": {
      "image/png": "[encoded data removed]",
      "text/plain": [
       "<Figure size 640x480 with 1 Axes>"
      ]
     },
     "metadata": {},
     "output_type": "display_data"
    }
   ],
   "source": [
    "sns.barplot(news_df['month'].value_counts(normalize=True))\n",
    "plt.xticks(rotation=45)"
   ]
  },
  {
   "cell_type": "markdown",
   "metadata": {},
   "source": [
    "When looking at the publication distribution across months of the year we see an even ditribution amonth the months. There isn't any noticible spike or decline in publications "
   ]
  },
  {
   "cell_type": "markdown",
   "metadata": {},
   "source": [
    "### 2) Text Analysis"
   ]
  },
  {
   "cell_type": "markdown",
   "metadata": {},
   "source": [
    "First let's download nltk resources for performing NLP and sentiment analysis. The resources are:\n",
    "* vader_lexicon: A scored list of words and jargon that NLTK references when performing sentiment analysis\n",
    "* punkt_tab: A data model created by Jan Strunk that NLTK uses to split full texts into word lists (Tokenizer)\n",
    "* stopwords: A list of really common words, like articles, pronouns, prepositions, and conjunctions\n",
    "* averaged_perceptron_tagger: A data model that NLTK uses to categorize words into their part of speech"
   ]
  },
  {
   "cell_type": "code",
   "execution_count": 185,
   "metadata": {},
   "outputs": [
    {
     "name": "stderr",
     "output_type": "stream",
     "text": [
      "[nltk_data] Downloading package vader_lexicon to C:\\Users\\VICTUS\n",
      "[nltk_data]     16\\AppData\\Roaming\\nltk_data...\n",
      "[nltk_data]   Package vader_lexicon is already up-to-date!\n",
      "[nltk_data] Downloading package punkt_tab to C:\\Users\\VICTUS\n",
      "[nltk_data]     16\\AppData\\Roaming\\nltk_data...\n",
      "[nltk_data]   Package punkt_tab is already up-to-date!\n",
      "[nltk_data] Downloading package stopwords to C:\\Users\\VICTUS\n",
      "[nltk_data]     16\\AppData\\Roaming\\nltk_data...\n",
      "[nltk_data]   Package stopwords is already up-to-date!\n",
      "[nltk_data] Downloading package averaged_perceptron_tagger to\n",
      "[nltk_data]     C:\\Users\\VICTUS 16\\AppData\\Roaming\\nltk_data...\n",
      "[nltk_data]   Package averaged_perceptron_tagger is already up-to-\n",
      "[nltk_data]       date!\n"
     ]
    },
    {
     "data": {
      "text/plain": [
       "True"
      ]
     },
     "execution_count": 185,
     "metadata": {},
     "output_type": "execute_result"
    }
   ],
   "source": [
    "# Downloading nltk resources for performing NLP and sentiment analysis\n",
    "nltk.download([\n",
    "    \"vader_lexicon\",\n",
    "    \"punkt_tab\",\n",
    "    \"stopwords\",\n",
    "    \"averaged_perceptron_tagger\"\n",
    "])"
   ]
  },
  {
   "cell_type": "markdown",
   "metadata": {},
   "source": [
    "* Let us apply sentiment analysis to the headlines of the article and then we will see how many of them have a postive, neutral or negative sentiment"
   ]
  },
  {
   "cell_type": "code",
   "execution_count": 186,
   "metadata": {},
   "outputs": [],
   "source": [
    "# let us initialize NLTK's pre-trained sentiment analyzer\n",
    "sentiment_analyzer = SentimentIntensityAnalyzer()"
   ]
  },
  {
   "cell_type": "code",
   "execution_count": 187,
   "metadata": {},
   "outputs": [],
   "source": [
    "# apply the sentiment analyzer to obtain the sentiment and intensity of the sentiment\n",
    "news_df['headline_sentiment'] = news_df['headline'].apply(lambda headline: sentiment_analyzer.polarity_scores(headline)[\"compound\"])"
   ]
  },
  {
   "cell_type": "markdown",
   "metadata": {},
   "source": [
    "* Now let us classify those sentiments as very-positive, positive, neutral, negative and very-negavtive.\n",
    "\n",
    "The ranges I chose for the different classifications are as follows:\n",
    "* **very-positive**: 0.7 - 1\n",
    "* **positive**: 0.1 - 0.7\n",
    "* **neutral**: -0.1 - 0.1\n",
    "* **negative**: -0.7 - -0.1\n",
    "* **very-negative**: -1 - -0.7"
   ]
  },
  {
   "cell_type": "code",
   "execution_count": 188,
   "metadata": {},
   "outputs": [],
   "source": [
    "# now we can \n",
    "news_df['sentiment_category'] = pd.cut(x=news_df['headline_sentiment'] , bins=[-1, -0.7, -0.1, 0.1, 0.7, 1] , labels=[\"very-negative\", \"negative\", \"neutral\", \"positive\", \"very-positive\"], precision=3)"
   ]
  },
  {
   "cell_type": "markdown",
   "metadata": {},
   "source": [
    "Now let us count the distribution of sentiment across our entire dataset"
   ]
  },
  {
   "cell_type": "code",
   "execution_count": 189,
   "metadata": {},
   "outputs": [
    {
     "data": {
      "text/plain": [
       "sentiment_category\n",
       "neutral          0.535337\n",
       "positive         0.287103\n",
       "negative         0.149529\n",
       "very-positive    0.022335\n",
       "very-negative    0.005697\n",
       "Name: proportion, dtype: float64"
      ]
     },
     "execution_count": 189,
     "metadata": {},
     "output_type": "execute_result"
    }
   ],
   "source": [
    "news_df['sentiment_category'].value_counts(normalize=True)"
   ]
  },
  {
   "cell_type": "code",
   "execution_count": 190,
   "metadata": {},
   "outputs": [
    {
     "data": {
      "text/plain": [
       "<Axes: xlabel='sentiment_category', ylabel='proportion'>"
      ]
     },
     "execution_count": 190,
     "metadata": {},
     "output_type": "execute_result"
    },
    {
     "data": {
      "image/png": "[encoded data removed]",
      "text/plain": [
       "<Figure size 640x480 with 1 Axes>"
      ]
     },
     "metadata": {},
     "output_type": "display_data"
    }
   ],
   "source": [
    "sns.barplot(news_df['sentiment_category'].value_counts(normalize=True))"
   ]
  },
  {
   "cell_type": "markdown",
   "metadata": {},
   "source": [
    "So we can see that:\n",
    "* **53.54%** of the dataset has a headline with a **neutral** sentiment\n",
    "* **28.71%** of the dataset has a headline with positive sentiment\n",
    "* **14.95%** of the dataset has a headline with **negative** sentiment\n",
    "* **2.23%** of the dataset has a headline with a **very-positive** sentiment\n",
    "* **0.57%** of the dataset has a headline with a **very-negative** sentiment"
   ]
  },
  {
   "cell_type": "markdown",
   "metadata": {},
   "source": [
    "Now let us try to extract common words that are found in the headlines."
   ]
  },
  {
   "cell_type": "code",
   "execution_count": 191,
   "metadata": {},
   "outputs": [
    {
     "data": {
      "text/plain": [
       "'!\"#$%&\\'()*+,-./:;<=>?@[\\\\]^_`{|}~'"
      ]
     },
     "execution_count": 191,
     "metadata": {},
     "output_type": "execute_result"
    }
   ],
   "source": [
    "string.punctuation"
   ]
  },
  {
   "cell_type": "code",
   "execution_count": 192,
   "metadata": {},
   "outputs": [],
   "source": [
    "stop_words = set(stopwords.words('english'))\n",
    "punctuation = set(string.punctuation)\n",
    "def get_tokens(headline: str):\n",
    "    '''\n",
    "    A function that will return a list of token/strings obtained from a headline. It only return words that aren't stop words and aren't punctuations.\n",
    "\n",
    "    Args:\n",
    "        - headline(str): the headline data to be tokenized\n",
    "    Returns:\n",
    "        - List[str]: the list of tokens of the headline passed to the function \n",
    "    '''\n",
    "    headline = headline.lower()\n",
    "    tokens = word_tokenize(headline)\n",
    "    result = [token.strip() for token in tokens if token.strip() not in stop_words and token.strip() not in punctuation]\n",
    "    return result"
   ]
  },
  {
   "cell_type": "code",
   "execution_count": 193,
   "metadata": {},
   "outputs": [],
   "source": [
    "words_df = pd.DataFrame()\n",
    "words_df = news_df[\"headline\"].apply(get_tokens)"
   ]
  },
  {
   "cell_type": "code",
   "execution_count": 194,
   "metadata": {},
   "outputs": [],
   "source": [
    "# Flatten the list of tokenized words\n",
    "all_words = [word for tokens in words_df for word in tokens]"
   ]
  },
  {
   "cell_type": "code",
   "execution_count": 195,
   "metadata": {},
   "outputs": [],
   "source": [
    "# Count the frequency of each word\n",
    "word_counts = Counter(all_words)\n",
    "\n",
    "# Get the most common words\n",
    "most_common_words = word_counts.most_common()"
   ]
  },
  {
   "cell_type": "markdown",
   "metadata": {},
   "source": [
    "Let us print the top 50 words"
   ]
  },
  {
   "cell_type": "code",
   "execution_count": 196,
   "metadata": {},
   "outputs": [
    {
     "data": {
      "text/plain": [
       "[(\"'s\", 206646),\n",
       " ('stocks', 161702),\n",
       " ('vs', 138835),\n",
       " ('eps', 128801),\n",
       " ('est', 122289),\n",
       " ('shares', 114140),\n",
       " ('reports', 108688),\n",
       " ('update', 91645),\n",
       " ('market', 91080),\n",
       " ('earnings', 87183),\n",
       " ('sales', 79528),\n",
       " ('top', 78493),\n",
       " ('benzinga', 74466),\n",
       " ('pt', 73059),\n",
       " ('announces', 66531),\n",
       " ('price', 64217),\n",
       " ('buy', 63928),\n",
       " ('downgrades', 61942),\n",
       " ('trading', 61146),\n",
       " ('raises', 57793),\n",
       " ('upgrades', 56802),\n",
       " ('target', 54669),\n",
       " ('maintains', 52960),\n",
       " ('52-week', 49802),\n",
       " ('higher', 48150),\n",
       " ('new', 47875),\n",
       " ('session', 45333),\n",
       " ('says', 43123),\n",
       " ('moving', 42248),\n",
       " ('q4', 40448),\n",
       " ('stock', 39334),\n",
       " ('inc.', 38720),\n",
       " ('q1', 38433),\n",
       " ('sees', 37971),\n",
       " ('estimate', 37938),\n",
       " ('q2', 37578),\n",
       " ('mid-day', 37276),\n",
       " ('q3', 36818),\n",
       " ('energy', 35604),\n",
       " ('initiates', 34981),\n",
       " ('us', 34970),\n",
       " ('companies', 34390),\n",
       " ('neutral', 34352),\n",
       " ('lower', 34184),\n",
       " ('bank', 34058),\n",
       " ('lowers', 33855),\n",
       " ('scheduled', 32835),\n",
       " ('coverage', 32323),\n",
       " ('company', 31012),\n",
       " ('morgan', 30970)]"
      ]
     },
     "execution_count": 196,
     "metadata": {},
     "output_type": "execute_result"
    }
   ],
   "source": [
    "most_common_words[:50]"
   ]
  },
  {
   "cell_type": "markdown",
   "metadata": {},
   "source": [
    "We can see that from the words we can get the following financial terms:\n",
    "* **q1**, **q2**, **q3** and **q4** which correspond to quarter one, two, three and four respectively. They are a 3 month period in which a company reports its financial results. \n",
    "* **shares**\n",
    "* **earning**\n",
    "* **eps** which stands for **Earning per share**\n",
    "* **price**\n",
    "* **stock**\n",
    "* **estimate**\n",
    "\n",
    "Terms that signify rise and fall of values:\n",
    "* **higher**\n",
    "* **lower**"
   ]
  },
  {
   "cell_type": "markdown",
   "metadata": {},
   "source": [
    "### 3) Time Series Analysis"
   ]
  },
  {
   "cell_type": "markdown",
   "metadata": {},
   "source": [
    "Let us prepaire the time series data by counting the publications per day of the week and prepairing a pandas dataframe from it"
   ]
  },
  {
   "cell_type": "code",
   "execution_count": 197,
   "metadata": {},
   "outputs": [
    {
     "name": "stderr",
     "output_type": "stream",
     "text": [
      "C:\\Users\\VICTUS 16\\AppData\\Local\\Temp\\ipykernel_14048\\1115098465.py:2: FutureWarning: The default of observed=False is deprecated and will be changed to True in a future version of pandas. Pass observed=False to retain current behavior or observed=True to adopt the future default and silence this warning.\n",
      "  daily_headlines = news_df.groupby('day').size()\n"
     ]
    },
    {
     "data": {
      "text/html": [
       "<div>\n",
       "<style scoped>\n",
       "    .dataframe tbody tr th:only-of-type {\n",
       "        vertical-align: middle;\n",
       "    }\n",
       "\n",
       "    .dataframe tbody tr th {\n",
       "        vertical-align: top;\n",
       "    }\n",
       "\n",
       "    .dataframe thead th {\n",
       "        text-align: right;\n",
       "    }\n",
       "</style>\n",
       "<table border=\"1\" class=\"dataframe\">\n",
       "  <thead>\n",
       "    <tr style=\"text-align: right;\">\n",
       "      <th></th>\n",
       "      <th>day</th>\n",
       "      <th>publications</th>\n",
       "    </tr>\n",
       "  </thead>\n",
       "  <tbody>\n",
       "    <tr>\n",
       "      <th>0</th>\n",
       "      <td>Monday</td>\n",
       "      <td>265139</td>\n",
       "    </tr>\n",
       "    <tr>\n",
       "      <th>1</th>\n",
       "      <td>Tuesday</td>\n",
       "      <td>296505</td>\n",
       "    </tr>\n",
       "    <tr>\n",
       "      <th>2</th>\n",
       "      <td>Wednesday</td>\n",
       "      <td>300922</td>\n",
       "    </tr>\n",
       "    <tr>\n",
       "      <th>3</th>\n",
       "      <td>Thursday</td>\n",
       "      <td>302619</td>\n",
       "    </tr>\n",
       "    <tr>\n",
       "      <th>4</th>\n",
       "      <td>Friday</td>\n",
       "      <td>217918</td>\n",
       "    </tr>\n",
       "    <tr>\n",
       "      <th>5</th>\n",
       "      <td>Saturday</td>\n",
       "      <td>7759</td>\n",
       "    </tr>\n",
       "    <tr>\n",
       "      <th>6</th>\n",
       "      <td>Sunday</td>\n",
       "      <td>16466</td>\n",
       "    </tr>\n",
       "  </tbody>\n",
       "</table>\n",
       "</div>"
      ],
      "text/plain": [
       "         day  publications\n",
       "0     Monday        265139\n",
       "1    Tuesday        296505\n",
       "2  Wednesday        300922\n",
       "3   Thursday        302619\n",
       "4     Friday        217918\n",
       "5   Saturday          7759\n",
       "6     Sunday         16466"
      ]
     },
     "execution_count": 197,
     "metadata": {},
     "output_type": "execute_result"
    }
   ],
   "source": [
    "# count the daily headlines\n",
    "daily_headlines = news_df.groupby('day').size()\n",
    "\n",
    "# create a DataFrame\n",
    "time_series_data = pd.DataFrame({'day' : daily_headlines.index , 'publications' : daily_headlines.values})\n",
    "\n",
    "# print out the timeseries data\n",
    "time_series_data"
   ]
  },
  {
   "cell_type": "markdown",
   "metadata": {},
   "source": [
    "Let us decompose the time_series data. We can choose between additive model and multiplicative model and also select the period. Let us try with additive model first then we will try it with multiplicative then finally we will select the better decomposition, while doing that we will set the period to 1"
   ]
  },
  {
   "cell_type": "code",
   "execution_count": 198,
   "metadata": {},
   "outputs": [],
   "source": [
    "# a constant for holding the period\n",
    "PERIOD = 1\n",
    "\n",
    "additive_decomp = seasonal_decompose(time_series_data['publications'], model='additive', period=PERIOD)\n",
    "multipicative_decomp = seasonal_decompose(time_series_data['publications'], model='multiplicative', period=PERIOD)"
   ]
  },
  {
   "cell_type": "markdown",
   "metadata": {},
   "source": [
    "Now let us plot the decompositions"
   ]
  },
  {
   "cell_type": "code",
   "execution_count": 199,
   "metadata": {},
   "outputs": [
    {
     "data": {
      "image/png": "[encoded data removed]",
      "text/plain": [
       "<Figure size 1800x1300 with 8 Axes>"
      ]
     },
     "metadata": {},
     "output_type": "display_data"
    }
   ],
   "source": [
    "fig, ax = plt.subplots(ncols=2, nrows=4, figsize=(18,13), squeeze=True , sharex=True)\n",
    "\n",
    "# set the title for the figure\n",
    "fig.suptitle(\"A plot of the time series decomposition accross days of the week\")\n",
    "\n",
    "# plot the additive decomposition\n",
    "sns.lineplot(data=time_series_data, x=\"day\" , y=\"publications\", ax=ax[0][0]) # this plots the original value\n",
    "sns.lineplot(data=additive_decomp.trend , ax=ax[1][0]) # this plots the trend\n",
    "sns.lineplot(data=additive_decomp.seasonal , ax=ax[2][0]) # this plots the seasonal paterns\n",
    "sns.lineplot(data=additive_decomp.resid , ax=ax[3][0]) # this plots the residual paterns\n",
    "\n",
    "\n",
    "# plot the multiplicative dcomposition\n",
    "sns.lineplot(data=time_series_data, x=\"day\" , y=\"publications\", ax=ax[0][1]) # this plots the original value\n",
    "sns.lineplot(data=multipicative_decomp.trend , ax=ax[1][1]) # this plots the trend\n",
    "sns.lineplot(data=multipicative_decomp.seasonal , ax=ax[2][1]) # this plots the seasonal paterns\n",
    "sns.lineplot(data=multipicative_decomp.resid , ax=ax[3][1]) # this plots the residual paterns\n",
    "\n",
    "# Adjust spacing between subplots\n",
    "plt.tight_layout(pad=2)"
   ]
  },
  {
   "cell_type": "markdown",
   "metadata": {},
   "source": [
    "From the time series plot we can conclude that:\n",
    "* We have a trend where publication will be constantly outputed for the week-days and then there will be a sharp down trend during the weekends\n",
    "* There is no seasonality in our data, when broke down by days of the week\n",
    "* Our resid is 0 , so it means that there are no inexplainable paterns the decompositions missed "
   ]
  },
  {
   "cell_type": "markdown",
   "metadata": {},
   "source": [
    "Now let us see the trend when we arrange our timeseries data over months of the year"
   ]
  },
  {
   "cell_type": "code",
   "execution_count": 200,
   "metadata": {},
   "outputs": [
    {
     "name": "stderr",
     "output_type": "stream",
     "text": [
      "C:\\Users\\VICTUS 16\\AppData\\Local\\Temp\\ipykernel_14048\\2916097437.py:2: FutureWarning: The default of observed=False is deprecated and will be changed to True in a future version of pandas. Pass observed=False to retain current behavior or observed=True to adopt the future default and silence this warning.\n",
      "  monthly_headlines = news_df.groupby('month').size()\n"
     ]
    },
    {
     "data": {
      "text/html": [
       "<div>\n",
       "<style scoped>\n",
       "    .dataframe tbody tr th:only-of-type {\n",
       "        vertical-align: middle;\n",
       "    }\n",
       "\n",
       "    .dataframe tbody tr th {\n",
       "        vertical-align: top;\n",
       "    }\n",
       "\n",
       "    .dataframe thead th {\n",
       "        text-align: right;\n",
       "    }\n",
       "</style>\n",
       "<table border=\"1\" class=\"dataframe\">\n",
       "  <thead>\n",
       "    <tr style=\"text-align: right;\">\n",
       "      <th></th>\n",
       "      <th>month</th>\n",
       "      <th>publications</th>\n",
       "    </tr>\n",
       "  </thead>\n",
       "  <tbody>\n",
       "    <tr>\n",
       "      <th>0</th>\n",
       "      <td>January</td>\n",
       "      <td>121545</td>\n",
       "    </tr>\n",
       "    <tr>\n",
       "      <th>1</th>\n",
       "      <td>February</td>\n",
       "      <td>122836</td>\n",
       "    </tr>\n",
       "    <tr>\n",
       "      <th>2</th>\n",
       "      <td>March</td>\n",
       "      <td>121949</td>\n",
       "    </tr>\n",
       "    <tr>\n",
       "      <th>3</th>\n",
       "      <td>April</td>\n",
       "      <td>121813</td>\n",
       "    </tr>\n",
       "    <tr>\n",
       "      <th>4</th>\n",
       "      <td>May</td>\n",
       "      <td>130340</td>\n",
       "    </tr>\n",
       "    <tr>\n",
       "      <th>5</th>\n",
       "      <td>June</td>\n",
       "      <td>106598</td>\n",
       "    </tr>\n",
       "    <tr>\n",
       "      <th>6</th>\n",
       "      <td>July</td>\n",
       "      <td>110764</td>\n",
       "    </tr>\n",
       "    <tr>\n",
       "      <th>7</th>\n",
       "      <td>August</td>\n",
       "      <td>124041</td>\n",
       "    </tr>\n",
       "    <tr>\n",
       "      <th>8</th>\n",
       "      <td>September</td>\n",
       "      <td>96089</td>\n",
       "    </tr>\n",
       "    <tr>\n",
       "      <th>9</th>\n",
       "      <td>October</td>\n",
       "      <td>124800</td>\n",
       "    </tr>\n",
       "    <tr>\n",
       "      <th>10</th>\n",
       "      <td>November</td>\n",
       "      <td>121430</td>\n",
       "    </tr>\n",
       "    <tr>\n",
       "      <th>11</th>\n",
       "      <td>December</td>\n",
       "      <td>105123</td>\n",
       "    </tr>\n",
       "  </tbody>\n",
       "</table>\n",
       "</div>"
      ],
      "text/plain": [
       "        month  publications\n",
       "0     January        121545\n",
       "1    February        122836\n",
       "2       March        121949\n",
       "3       April        121813\n",
       "4         May        130340\n",
       "5        June        106598\n",
       "6        July        110764\n",
       "7      August        124041\n",
       "8   September         96089\n",
       "9     October        124800\n",
       "10   November        121430\n",
       "11   December        105123"
      ]
     },
     "execution_count": 200,
     "metadata": {},
     "output_type": "execute_result"
    }
   ],
   "source": [
    "# count the daily headlines\n",
    "monthly_headlines = news_df.groupby('month').size()\n",
    "\n",
    "# create a DataFrame\n",
    "time_series_data = pd.DataFrame({'month' : monthly_headlines.index , 'publications' : monthly_headlines.values})\n",
    "\n",
    "# print out the timeseries data\n",
    "time_series_data"
   ]
  },
  {
   "cell_type": "markdown",
   "metadata": {},
   "source": [
    "Let us decompose the time_series data. We can choose between additive model and multiplicative model and also select the period. Let us try with additive model first then we will try it with multiplicative then finally we will select the better decomposition, while doing that we will set the period to 1"
   ]
  },
  {
   "cell_type": "code",
   "execution_count": 201,
   "metadata": {},
   "outputs": [],
   "source": [
    "# a constant for holding the period\n",
    "PERIOD = 1\n",
    "\n",
    "additive_decomp = seasonal_decompose(time_series_data['publications'], model='additive', period=PERIOD)\n",
    "multipicative_decomp = seasonal_decompose(time_series_data['publications'], model='multiplicative', period=PERIOD)"
   ]
  },
  {
   "cell_type": "markdown",
   "metadata": {},
   "source": [
    "Now let us plot the decompositions"
   ]
  },
  {
   "cell_type": "code",
   "execution_count": 202,
   "metadata": {},
   "outputs": [
    {
     "data": {
      "image/png": "[encoded data removed]",
      "text/plain": [
       "<Figure size 1800x1300 with 8 Axes>"
      ]
     },
     "metadata": {},
     "output_type": "display_data"
    }
   ],
   "source": [
    "fig, ax = plt.subplots(ncols=2, nrows=4, figsize=(18,13), squeeze=True , sharex=True)\n",
    "\n",
    "# set the title for the figure\n",
    "fig.suptitle(\"A plot of the time series decomposition accross days of the week\")\n",
    "\n",
    "# plot the additive decomposition\n",
    "sns.lineplot(data=time_series_data, x=\"month\" , y=\"publications\", ax=ax[0][0]) # this plots the original value\n",
    "sns.lineplot(data=additive_decomp.trend , ax=ax[1][0]) # this plots the trend\n",
    "sns.lineplot(data=additive_decomp.seasonal , ax=ax[2][0]) # this plots the seasonal paterns\n",
    "sns.lineplot(data=additive_decomp.resid , ax=ax[3][0]) # this plots the residual paterns\n",
    "\n",
    "plt.setp(ax[3][0].get_xticklabels(), rotation=45)\n",
    "\n",
    "# plot the multiplicative dcomposition\n",
    "sns.lineplot(data=time_series_data, x=\"month\" , y=\"publications\", ax=ax[0][1]) # this plots the original value\n",
    "sns.lineplot(data=multipicative_decomp.trend , ax=ax[1][1]) # this plots the trend\n",
    "sns.lineplot(data=multipicative_decomp.seasonal , ax=ax[2][1]) # this plots the seasonal paterns\n",
    "sns.lineplot(data=multipicative_decomp.resid , ax=ax[3][1]) # this plots the residual paterns\n",
    "\n",
    "plt.setp(ax[3][1].get_xticklabels(), rotation=45)\n",
    "\n",
    "# Adjust spacing between subplots\n",
    "plt.tight_layout(pad=2)"
   ]
  },
  {
   "cell_type": "markdown",
   "metadata": {},
   "source": [
    "From the time series plot we can conclude that:\n",
    "* There is no seasonality in our data, when broke down by months of the year\n",
    "* Our residual is 0 , so it means that there are no inexplainable paterns the decompositions missed\n",
    "* There is a constant trend of publication between **January** and **April** , there is a very strong downward trend from **August** to **September**  "
   ]
  },
  {
   "cell_type": "markdown",
   "metadata": {},
   "source": [
    "### 4) Publisher Analysis"
   ]
  },
  {
   "cell_type": "markdown",
   "metadata": {},
   "source": [
    "Let us look for publishers that have an email as their publisher name"
   ]
  },
  {
   "cell_type": "code",
   "execution_count": 203,
   "metadata": {},
   "outputs": [
    {
     "data": {
      "text/plain": [
       "publisher\n",
       "False    1399240\n",
       "True        8088\n",
       "Name: count, dtype: int64"
      ]
     },
     "execution_count": 203,
     "metadata": {},
     "output_type": "execute_result"
    }
   ],
   "source": [
    "news_df[\"publisher\"].map(lambda publisher : \"@\" in publisher).value_counts()"
   ]
  },
  {
   "cell_type": "markdown",
   "metadata": {},
   "source": [
    "As we can see there are about 8088 publishers with an email as thier publisher name, now let us filter them"
   ]
  },
  {
   "cell_type": "code",
   "execution_count": 204,
   "metadata": {},
   "outputs": [],
   "source": [
    "# select the publisher with an email domain by looking for the @ sign\n",
    "email_publishers =  news_df[news_df[\"publisher\"].str.contains(\"@\")]"
   ]
  },
  {
   "cell_type": "markdown",
   "metadata": {},
   "source": [
    "Now let us obtain the organization name from the email"
   ]
  },
  {
   "cell_type": "code",
   "execution_count": 205,
   "metadata": {},
   "outputs": [],
   "source": [
    "def obtain_organization(email: str):\n",
    "    '''\n",
    "    A function that returns the organization/domain name of a given email.\n",
    "\n",
    "    Args:\n",
    "        - email(str): the email whose organization/domain we want to obtain\n",
    "    \n",
    "    Return:\n",
    "        - string: the organization name\n",
    "    '''\n",
    "\n",
    "    # split on the @ sign and get the right most value\n",
    "    right = email.split(\"@\")[1]\n",
    "    # split with . and get the left most value\n",
    "    name = right.split(\".\")[0]\n",
    "\n",
    "    return name"
   ]
  },
  {
   "cell_type": "code",
   "execution_count": 206,
   "metadata": {},
   "outputs": [
    {
     "name": "stderr",
     "output_type": "stream",
     "text": [
      "C:\\Users\\VICTUS 16\\AppData\\Local\\Temp\\ipykernel_14048\\1986411962.py:1: SettingWithCopyWarning: \n",
      "A value is trying to be set on a copy of a slice from a DataFrame.\n",
      "Try using .loc[row_indexer,col_indexer] = value instead\n",
      "\n",
      "See the caveats in the documentation: https://pandas.pydata.org/pandas-docs/stable/user_guide/indexing.html#returning-a-view-versus-a-copy\n",
      "  email_publishers[\"organization\"] = email_publishers[\"publisher\"].apply(obtain_organization)\n"
     ]
    }
   ],
   "source": [
    "email_publishers[\"organization\"] = email_publishers[\"publisher\"].apply(obtain_organization)"
   ]
  },
  {
   "cell_type": "code",
   "execution_count": 207,
   "metadata": {},
   "outputs": [
    {
     "data": {
      "text/plain": [
       "organization\n",
       "benzinga              0.981330\n",
       "gmail                 0.017186\n",
       "andyswan              0.000618\n",
       "investdiva            0.000247\n",
       "tothetick             0.000247\n",
       "eosdetroit            0.000124\n",
       "forextraininggroup    0.000124\n",
       "stockmetrix           0.000124\n",
       "Name: proportion, dtype: float64"
      ]
     },
     "execution_count": 207,
     "metadata": {},
     "output_type": "execute_result"
    }
   ],
   "source": [
    "email_publishers[\"organization\"].value_counts(normalize=True)"
   ]
  },
  {
   "cell_type": "code",
   "execution_count": 208,
   "metadata": {},
   "outputs": [
    {
     "data": {
      "text/plain": [
       "<Axes: xlabel='organization', ylabel='proportion'>"
      ]
     },
     "execution_count": 208,
     "metadata": {},
     "output_type": "execute_result"
    },
    {
     "data": {
      "image/png": "[encoded data removed]",
      "text/plain": [
       "<Figure size 1200x600 with 1 Axes>"
      ]
     },
     "metadata": {},
     "output_type": "display_data"
    }
   ],
   "source": [
    "fig = plt.figure(figsize=(12,6))\n",
    "sns.barplot(email_publishers[\"organization\"].value_counts(normalize=True) , width=0.4)"
   ]
  },
  {
   "cell_type": "markdown",
   "metadata": {},
   "source": [
    "We can see that from the **8,088** data points with emails as their publisher name:\n",
    "* 7,937(98.13%) come from the company **benziga**\n",
    "* 139(1.7%) come from **gmail** which means the publishers used personal email and don't represent a company\n",
    "* 5 come from **andyswan**\n",
    "* 4 come **investdive** and **tothetick**, both having 2\n",
    "* 3 come from **eosdetroit**, **forextraininggroup** and **stockmetrix**: each having 1\n",
    " "
   ]
  },
  {
   "cell_type": "markdown",
   "metadata": {},
   "source": [
    "On previous cells , Descriptive statistics part to be exact , we have seen the top 50 publishers. Now let us look at the type of news they publish, the sentiment of the news"
   ]
  },
  {
   "cell_type": "code",
   "execution_count": 209,
   "metadata": {},
   "outputs": [
    {
     "name": "stderr",
     "output_type": "stream",
     "text": [
      "C:\\Users\\VICTUS 16\\AppData\\Local\\Temp\\ipykernel_14048\\2213367105.py:1: FutureWarning: The default of observed=False is deprecated and will be changed to True in a future version of pandas. Pass observed=False to retain current behavior or observed=True to adopt the future default and silence this warning.\n",
      "  grouping = news_df.groupby(['publisher', 'sentiment_category'])\n"
     ]
    }
   ],
   "source": [
    "grouping = news_df.groupby(['publisher', 'sentiment_category'])\n",
    "sentiment_counts = grouping.size().unstack(fill_value=0).reset_index()"
   ]
  },
  {
   "cell_type": "markdown",
   "metadata": {},
   "source": [
    "* Let us see the top 20 publisher with a headline that has a very-negative sentiment"
   ]
  },
  {
   "cell_type": "code",
   "execution_count": 210,
   "metadata": {},
   "outputs": [
    {
     "data": {
      "text/html": [
       "<div>\n",
       "<style scoped>\n",
       "    .dataframe tbody tr th:only-of-type {\n",
       "        vertical-align: middle;\n",
       "    }\n",
       "\n",
       "    .dataframe tbody tr th {\n",
       "        vertical-align: top;\n",
       "    }\n",
       "\n",
       "    .dataframe thead th {\n",
       "        text-align: right;\n",
       "    }\n",
       "</style>\n",
       "<table border=\"1\" class=\"dataframe\">\n",
       "  <thead>\n",
       "    <tr style=\"text-align: right;\">\n",
       "      <th>sentiment_category</th>\n",
       "      <th>publisher</th>\n",
       "      <th>very-negative</th>\n",
       "      <th>negative</th>\n",
       "      <th>neutral</th>\n",
       "      <th>positive</th>\n",
       "      <th>very-positive</th>\n",
       "    </tr>\n",
       "  </thead>\n",
       "  <tbody>\n",
       "    <tr>\n",
       "      <th>96</th>\n",
       "      <td>Benzinga Newsdesk</td>\n",
       "      <td>1883</td>\n",
       "      <td>35795</td>\n",
       "      <td>62776</td>\n",
       "      <td>42343</td>\n",
       "      <td>7687</td>\n",
       "    </tr>\n",
       "    <tr>\n",
       "      <th>686</th>\n",
       "      <td>Paul Quintaro</td>\n",
       "      <td>989</td>\n",
       "      <td>23538</td>\n",
       "      <td>133566</td>\n",
       "      <td>64718</td>\n",
       "      <td>5562</td>\n",
       "    </tr>\n",
       "    <tr>\n",
       "      <th>169</th>\n",
       "      <td>Charles Gross</td>\n",
       "      <td>676</td>\n",
       "      <td>11455</td>\n",
       "      <td>42990</td>\n",
       "      <td>39711</td>\n",
       "      <td>1900</td>\n",
       "    </tr>\n",
       "    <tr>\n",
       "      <th>478</th>\n",
       "      <td>Juan Lopez</td>\n",
       "      <td>348</td>\n",
       "      <td>7396</td>\n",
       "      <td>15156</td>\n",
       "      <td>5470</td>\n",
       "      <td>68</td>\n",
       "    </tr>\n",
       "    <tr>\n",
       "      <th>777</th>\n",
       "      <td>Shanthi Rexaline</td>\n",
       "      <td>303</td>\n",
       "      <td>3494</td>\n",
       "      <td>7663</td>\n",
       "      <td>4781</td>\n",
       "      <td>399</td>\n",
       "    </tr>\n",
       "    <tr>\n",
       "      <th>112</th>\n",
       "      <td>Benzinga Newsdesk</td>\n",
       "      <td>297</td>\n",
       "      <td>293</td>\n",
       "      <td>25</td>\n",
       "      <td>706</td>\n",
       "      <td>2259</td>\n",
       "    </tr>\n",
       "    <tr>\n",
       "      <th>275</th>\n",
       "      <td>Eddie Staley</td>\n",
       "      <td>226</td>\n",
       "      <td>6874</td>\n",
       "      <td>31856</td>\n",
       "      <td>16807</td>\n",
       "      <td>1491</td>\n",
       "    </tr>\n",
       "    <tr>\n",
       "      <th>418</th>\n",
       "      <td>Jayson Derrick</td>\n",
       "      <td>211</td>\n",
       "      <td>3689</td>\n",
       "      <td>8539</td>\n",
       "      <td>6071</td>\n",
       "      <td>540</td>\n",
       "    </tr>\n",
       "    <tr>\n",
       "      <th>449</th>\n",
       "      <td>Joe Young</td>\n",
       "      <td>190</td>\n",
       "      <td>2149</td>\n",
       "      <td>5928</td>\n",
       "      <td>2431</td>\n",
       "      <td>79</td>\n",
       "    </tr>\n",
       "    <tr>\n",
       "      <th>353</th>\n",
       "      <td>Hal Lindon</td>\n",
       "      <td>187</td>\n",
       "      <td>4382</td>\n",
       "      <td>28597</td>\n",
       "      <td>14578</td>\n",
       "      <td>1303</td>\n",
       "    </tr>\n",
       "    <tr>\n",
       "      <th>532</th>\n",
       "      <td>Lisa Levin</td>\n",
       "      <td>187</td>\n",
       "      <td>30919</td>\n",
       "      <td>108868</td>\n",
       "      <td>45743</td>\n",
       "      <td>1262</td>\n",
       "    </tr>\n",
       "    <tr>\n",
       "      <th>1033</th>\n",
       "      <td>webmaster</td>\n",
       "      <td>143</td>\n",
       "      <td>2886</td>\n",
       "      <td>12751</td>\n",
       "      <td>4425</td>\n",
       "      <td>108</td>\n",
       "    </tr>\n",
       "    <tr>\n",
       "      <th>519</th>\n",
       "      <td>Laura Brodbeck</td>\n",
       "      <td>131</td>\n",
       "      <td>2164</td>\n",
       "      <td>3310</td>\n",
       "      <td>1395</td>\n",
       "      <td>69</td>\n",
       "    </tr>\n",
       "    <tr>\n",
       "      <th>34</th>\n",
       "      <td>Allie Wickman</td>\n",
       "      <td>125</td>\n",
       "      <td>1894</td>\n",
       "      <td>10798</td>\n",
       "      <td>4992</td>\n",
       "      <td>508</td>\n",
       "    </tr>\n",
       "    <tr>\n",
       "      <th>111</th>\n",
       "      <td>Benzinga_Newsdesk</td>\n",
       "      <td>110</td>\n",
       "      <td>4300</td>\n",
       "      <td>8823</td>\n",
       "      <td>5363</td>\n",
       "      <td>814</td>\n",
       "    </tr>\n",
       "    <tr>\n",
       "      <th>270</th>\n",
       "      <td>ETF Professor</td>\n",
       "      <td>101</td>\n",
       "      <td>2997</td>\n",
       "      <td>19064</td>\n",
       "      <td>6005</td>\n",
       "      <td>322</td>\n",
       "    </tr>\n",
       "    <tr>\n",
       "      <th>266</th>\n",
       "      <td>Dwight Einhorn</td>\n",
       "      <td>97</td>\n",
       "      <td>2075</td>\n",
       "      <td>5088</td>\n",
       "      <td>4472</td>\n",
       "      <td>494</td>\n",
       "    </tr>\n",
       "    <tr>\n",
       "      <th>922</th>\n",
       "      <td>Wayne Duggan</td>\n",
       "      <td>88</td>\n",
       "      <td>2126</td>\n",
       "      <td>6485</td>\n",
       "      <td>3883</td>\n",
       "      <td>315</td>\n",
       "    </tr>\n",
       "    <tr>\n",
       "      <th>622</th>\n",
       "      <td>Monica Gerson</td>\n",
       "      <td>83</td>\n",
       "      <td>10234</td>\n",
       "      <td>41393</td>\n",
       "      <td>30124</td>\n",
       "      <td>546</td>\n",
       "    </tr>\n",
       "    <tr>\n",
       "      <th>942</th>\n",
       "      <td>Zacks</td>\n",
       "      <td>76</td>\n",
       "      <td>1777</td>\n",
       "      <td>12270</td>\n",
       "      <td>4980</td>\n",
       "      <td>287</td>\n",
       "    </tr>\n",
       "  </tbody>\n",
       "</table>\n",
       "</div>"
      ],
      "text/plain": [
       "sentiment_category          publisher  very-negative  negative  neutral  \\\n",
       "96                  Benzinga Newsdesk           1883     35795    62776   \n",
       "686                     Paul Quintaro            989     23538   133566   \n",
       "169                     Charles Gross            676     11455    42990   \n",
       "478                        Juan Lopez            348      7396    15156   \n",
       "777                  Shanthi Rexaline            303      3494     7663   \n",
       "112                 Benzinga Newsdesk            297       293       25   \n",
       "275                      Eddie Staley            226      6874    31856   \n",
       "418                    Jayson Derrick            211      3689     8539   \n",
       "449                         Joe Young            190      2149     5928   \n",
       "353                        Hal Lindon            187      4382    28597   \n",
       "532                        Lisa Levin            187     30919   108868   \n",
       "1033                        webmaster            143      2886    12751   \n",
       "519                    Laura Brodbeck            131      2164     3310   \n",
       "34                      Allie Wickman            125      1894    10798   \n",
       "111                 Benzinga_Newsdesk            110      4300     8823   \n",
       "270                     ETF Professor            101      2997    19064   \n",
       "266                    Dwight Einhorn             97      2075     5088   \n",
       "922                      Wayne Duggan             88      2126     6485   \n",
       "622                     Monica Gerson             83     10234    41393   \n",
       "942                             Zacks             76      1777    12270   \n",
       "\n",
       "sentiment_category  positive  very-positive  \n",
       "96                     42343           7687  \n",
       "686                    64718           5562  \n",
       "169                    39711           1900  \n",
       "478                     5470             68  \n",
       "777                     4781            399  \n",
       "112                      706           2259  \n",
       "275                    16807           1491  \n",
       "418                     6071            540  \n",
       "449                     2431             79  \n",
       "353                    14578           1303  \n",
       "532                    45743           1262  \n",
       "1033                    4425            108  \n",
       "519                     1395             69  \n",
       "34                      4992            508  \n",
       "111                     5363            814  \n",
       "270                     6005            322  \n",
       "266                     4472            494  \n",
       "922                     3883            315  \n",
       "622                    30124            546  \n",
       "942                     4980            287  "
      ]
     },
     "execution_count": 210,
     "metadata": {},
     "output_type": "execute_result"
    }
   ],
   "source": [
    "sentiment_counts.sort_values(by='very-negative' , ascending=False).head(20)"
   ]
  },
  {
   "cell_type": "markdown",
   "metadata": {},
   "source": [
    "* Let us see the top 20 publisher with a headline that has a very-positive sentiment"
   ]
  },
  {
   "cell_type": "code",
   "execution_count": 211,
   "metadata": {},
   "outputs": [
    {
     "data": {
      "text/html": [
       "<div>\n",
       "<style scoped>\n",
       "    .dataframe tbody tr th:only-of-type {\n",
       "        vertical-align: middle;\n",
       "    }\n",
       "\n",
       "    .dataframe tbody tr th {\n",
       "        vertical-align: top;\n",
       "    }\n",
       "\n",
       "    .dataframe thead th {\n",
       "        text-align: right;\n",
       "    }\n",
       "</style>\n",
       "<table border=\"1\" class=\"dataframe\">\n",
       "  <thead>\n",
       "    <tr style=\"text-align: right;\">\n",
       "      <th>sentiment_category</th>\n",
       "      <th>publisher</th>\n",
       "      <th>very-negative</th>\n",
       "      <th>negative</th>\n",
       "      <th>neutral</th>\n",
       "      <th>positive</th>\n",
       "      <th>very-positive</th>\n",
       "    </tr>\n",
       "  </thead>\n",
       "  <tbody>\n",
       "    <tr>\n",
       "      <th>96</th>\n",
       "      <td>Benzinga Newsdesk</td>\n",
       "      <td>1883</td>\n",
       "      <td>35795</td>\n",
       "      <td>62776</td>\n",
       "      <td>42343</td>\n",
       "      <td>7687</td>\n",
       "    </tr>\n",
       "    <tr>\n",
       "      <th>686</th>\n",
       "      <td>Paul Quintaro</td>\n",
       "      <td>989</td>\n",
       "      <td>23538</td>\n",
       "      <td>133566</td>\n",
       "      <td>64718</td>\n",
       "      <td>5562</td>\n",
       "    </tr>\n",
       "    <tr>\n",
       "      <th>112</th>\n",
       "      <td>Benzinga Newsdesk</td>\n",
       "      <td>297</td>\n",
       "      <td>293</td>\n",
       "      <td>25</td>\n",
       "      <td>706</td>\n",
       "      <td>2259</td>\n",
       "    </tr>\n",
       "    <tr>\n",
       "      <th>169</th>\n",
       "      <td>Charles Gross</td>\n",
       "      <td>676</td>\n",
       "      <td>11455</td>\n",
       "      <td>42990</td>\n",
       "      <td>39711</td>\n",
       "      <td>1900</td>\n",
       "    </tr>\n",
       "    <tr>\n",
       "      <th>275</th>\n",
       "      <td>Eddie Staley</td>\n",
       "      <td>226</td>\n",
       "      <td>6874</td>\n",
       "      <td>31856</td>\n",
       "      <td>16807</td>\n",
       "      <td>1491</td>\n",
       "    </tr>\n",
       "    <tr>\n",
       "      <th>353</th>\n",
       "      <td>Hal Lindon</td>\n",
       "      <td>187</td>\n",
       "      <td>4382</td>\n",
       "      <td>28597</td>\n",
       "      <td>14578</td>\n",
       "      <td>1303</td>\n",
       "    </tr>\n",
       "    <tr>\n",
       "      <th>532</th>\n",
       "      <td>Lisa Levin</td>\n",
       "      <td>187</td>\n",
       "      <td>30919</td>\n",
       "      <td>108868</td>\n",
       "      <td>45743</td>\n",
       "      <td>1262</td>\n",
       "    </tr>\n",
       "    <tr>\n",
       "      <th>111</th>\n",
       "      <td>Benzinga_Newsdesk</td>\n",
       "      <td>110</td>\n",
       "      <td>4300</td>\n",
       "      <td>8823</td>\n",
       "      <td>5363</td>\n",
       "      <td>814</td>\n",
       "    </tr>\n",
       "    <tr>\n",
       "      <th>98</th>\n",
       "      <td>Benzinga Staff</td>\n",
       "      <td>68</td>\n",
       "      <td>2174</td>\n",
       "      <td>17715</td>\n",
       "      <td>7588</td>\n",
       "      <td>569</td>\n",
       "    </tr>\n",
       "    <tr>\n",
       "      <th>622</th>\n",
       "      <td>Monica Gerson</td>\n",
       "      <td>83</td>\n",
       "      <td>10234</td>\n",
       "      <td>41393</td>\n",
       "      <td>30124</td>\n",
       "      <td>546</td>\n",
       "    </tr>\n",
       "    <tr>\n",
       "      <th>418</th>\n",
       "      <td>Jayson Derrick</td>\n",
       "      <td>211</td>\n",
       "      <td>3689</td>\n",
       "      <td>8539</td>\n",
       "      <td>6071</td>\n",
       "      <td>540</td>\n",
       "    </tr>\n",
       "    <tr>\n",
       "      <th>34</th>\n",
       "      <td>Allie Wickman</td>\n",
       "      <td>125</td>\n",
       "      <td>1894</td>\n",
       "      <td>10798</td>\n",
       "      <td>4992</td>\n",
       "      <td>508</td>\n",
       "    </tr>\n",
       "    <tr>\n",
       "      <th>266</th>\n",
       "      <td>Dwight Einhorn</td>\n",
       "      <td>97</td>\n",
       "      <td>2075</td>\n",
       "      <td>5088</td>\n",
       "      <td>4472</td>\n",
       "      <td>494</td>\n",
       "    </tr>\n",
       "    <tr>\n",
       "      <th>777</th>\n",
       "      <td>Shanthi Rexaline</td>\n",
       "      <td>303</td>\n",
       "      <td>3494</td>\n",
       "      <td>7663</td>\n",
       "      <td>4781</td>\n",
       "      <td>399</td>\n",
       "    </tr>\n",
       "    <tr>\n",
       "      <th>270</th>\n",
       "      <td>ETF Professor</td>\n",
       "      <td>101</td>\n",
       "      <td>2997</td>\n",
       "      <td>19064</td>\n",
       "      <td>6005</td>\n",
       "      <td>322</td>\n",
       "    </tr>\n",
       "    <tr>\n",
       "      <th>922</th>\n",
       "      <td>Wayne Duggan</td>\n",
       "      <td>88</td>\n",
       "      <td>2126</td>\n",
       "      <td>6485</td>\n",
       "      <td>3883</td>\n",
       "      <td>315</td>\n",
       "    </tr>\n",
       "    <tr>\n",
       "      <th>942</th>\n",
       "      <td>Zacks</td>\n",
       "      <td>76</td>\n",
       "      <td>1777</td>\n",
       "      <td>12270</td>\n",
       "      <td>4980</td>\n",
       "      <td>287</td>\n",
       "    </tr>\n",
       "    <tr>\n",
       "      <th>390</th>\n",
       "      <td>JJ Kinahan</td>\n",
       "      <td>73</td>\n",
       "      <td>704</td>\n",
       "      <td>1495</td>\n",
       "      <td>1069</td>\n",
       "      <td>242</td>\n",
       "    </tr>\n",
       "    <tr>\n",
       "      <th>991</th>\n",
       "      <td>luke@benzinga.com</td>\n",
       "      <td>51</td>\n",
       "      <td>1147</td>\n",
       "      <td>2451</td>\n",
       "      <td>1316</td>\n",
       "      <td>233</td>\n",
       "    </tr>\n",
       "    <tr>\n",
       "      <th>583</th>\n",
       "      <td>Matthew Kennedy</td>\n",
       "      <td>51</td>\n",
       "      <td>1079</td>\n",
       "      <td>4315</td>\n",
       "      <td>2500</td>\n",
       "      <td>222</td>\n",
       "    </tr>\n",
       "  </tbody>\n",
       "</table>\n",
       "</div>"
      ],
      "text/plain": [
       "sentiment_category          publisher  very-negative  negative  neutral  \\\n",
       "96                  Benzinga Newsdesk           1883     35795    62776   \n",
       "686                     Paul Quintaro            989     23538   133566   \n",
       "112                 Benzinga Newsdesk            297       293       25   \n",
       "169                     Charles Gross            676     11455    42990   \n",
       "275                      Eddie Staley            226      6874    31856   \n",
       "353                        Hal Lindon            187      4382    28597   \n",
       "532                        Lisa Levin            187     30919   108868   \n",
       "111                 Benzinga_Newsdesk            110      4300     8823   \n",
       "98                     Benzinga Staff             68      2174    17715   \n",
       "622                     Monica Gerson             83     10234    41393   \n",
       "418                    Jayson Derrick            211      3689     8539   \n",
       "34                      Allie Wickman            125      1894    10798   \n",
       "266                    Dwight Einhorn             97      2075     5088   \n",
       "777                  Shanthi Rexaline            303      3494     7663   \n",
       "270                     ETF Professor            101      2997    19064   \n",
       "922                      Wayne Duggan             88      2126     6485   \n",
       "942                             Zacks             76      1777    12270   \n",
       "390                        JJ Kinahan             73       704     1495   \n",
       "991                 luke@benzinga.com             51      1147     2451   \n",
       "583                   Matthew Kennedy             51      1079     4315   \n",
       "\n",
       "sentiment_category  positive  very-positive  \n",
       "96                     42343           7687  \n",
       "686                    64718           5562  \n",
       "112                      706           2259  \n",
       "169                    39711           1900  \n",
       "275                    16807           1491  \n",
       "353                    14578           1303  \n",
       "532                    45743           1262  \n",
       "111                     5363            814  \n",
       "98                      7588            569  \n",
       "622                    30124            546  \n",
       "418                     6071            540  \n",
       "34                      4992            508  \n",
       "266                     4472            494  \n",
       "777                     4781            399  \n",
       "270                     6005            322  \n",
       "922                     3883            315  \n",
       "942                     4980            287  \n",
       "390                     1069            242  \n",
       "991                     1316            233  \n",
       "583                     2500            222  "
      ]
     },
     "execution_count": 211,
     "metadata": {},
     "output_type": "execute_result"
    }
   ],
   "source": [
    "sentiment_counts.sort_values(by='very-positive' , ascending=False).head(20)"
   ]
  },
  {
   "cell_type": "markdown",
   "metadata": {},
   "source": [
    "* Let us see the top 20 publisher with a headline that has a positive sentiment"
   ]
  },
  {
   "cell_type": "code",
   "execution_count": 212,
   "metadata": {},
   "outputs": [
    {
     "data": {
      "text/html": [
       "<div>\n",
       "<style scoped>\n",
       "    .dataframe tbody tr th:only-of-type {\n",
       "        vertical-align: middle;\n",
       "    }\n",
       "\n",
       "    .dataframe tbody tr th {\n",
       "        vertical-align: top;\n",
       "    }\n",
       "\n",
       "    .dataframe thead th {\n",
       "        text-align: right;\n",
       "    }\n",
       "</style>\n",
       "<table border=\"1\" class=\"dataframe\">\n",
       "  <thead>\n",
       "    <tr style=\"text-align: right;\">\n",
       "      <th>sentiment_category</th>\n",
       "      <th>publisher</th>\n",
       "      <th>very-negative</th>\n",
       "      <th>negative</th>\n",
       "      <th>neutral</th>\n",
       "      <th>positive</th>\n",
       "      <th>very-positive</th>\n",
       "    </tr>\n",
       "  </thead>\n",
       "  <tbody>\n",
       "    <tr>\n",
       "      <th>686</th>\n",
       "      <td>Paul Quintaro</td>\n",
       "      <td>989</td>\n",
       "      <td>23538</td>\n",
       "      <td>133566</td>\n",
       "      <td>64718</td>\n",
       "      <td>5562</td>\n",
       "    </tr>\n",
       "    <tr>\n",
       "      <th>532</th>\n",
       "      <td>Lisa Levin</td>\n",
       "      <td>187</td>\n",
       "      <td>30919</td>\n",
       "      <td>108868</td>\n",
       "      <td>45743</td>\n",
       "      <td>1262</td>\n",
       "    </tr>\n",
       "    <tr>\n",
       "      <th>96</th>\n",
       "      <td>Benzinga Newsdesk</td>\n",
       "      <td>1883</td>\n",
       "      <td>35795</td>\n",
       "      <td>62776</td>\n",
       "      <td>42343</td>\n",
       "      <td>7687</td>\n",
       "    </tr>\n",
       "    <tr>\n",
       "      <th>169</th>\n",
       "      <td>Charles Gross</td>\n",
       "      <td>676</td>\n",
       "      <td>11455</td>\n",
       "      <td>42990</td>\n",
       "      <td>39711</td>\n",
       "      <td>1900</td>\n",
       "    </tr>\n",
       "    <tr>\n",
       "      <th>622</th>\n",
       "      <td>Monica Gerson</td>\n",
       "      <td>83</td>\n",
       "      <td>10234</td>\n",
       "      <td>41393</td>\n",
       "      <td>30124</td>\n",
       "      <td>546</td>\n",
       "    </tr>\n",
       "    <tr>\n",
       "      <th>275</th>\n",
       "      <td>Eddie Staley</td>\n",
       "      <td>226</td>\n",
       "      <td>6874</td>\n",
       "      <td>31856</td>\n",
       "      <td>16807</td>\n",
       "      <td>1491</td>\n",
       "    </tr>\n",
       "    <tr>\n",
       "      <th>353</th>\n",
       "      <td>Hal Lindon</td>\n",
       "      <td>187</td>\n",
       "      <td>4382</td>\n",
       "      <td>28597</td>\n",
       "      <td>14578</td>\n",
       "      <td>1303</td>\n",
       "    </tr>\n",
       "    <tr>\n",
       "      <th>98</th>\n",
       "      <td>Benzinga Staff</td>\n",
       "      <td>68</td>\n",
       "      <td>2174</td>\n",
       "      <td>17715</td>\n",
       "      <td>7588</td>\n",
       "      <td>569</td>\n",
       "    </tr>\n",
       "    <tr>\n",
       "      <th>208</th>\n",
       "      <td>Craig Jones</td>\n",
       "      <td>20</td>\n",
       "      <td>851</td>\n",
       "      <td>8365</td>\n",
       "      <td>6905</td>\n",
       "      <td>80</td>\n",
       "    </tr>\n",
       "    <tr>\n",
       "      <th>418</th>\n",
       "      <td>Jayson Derrick</td>\n",
       "      <td>211</td>\n",
       "      <td>3689</td>\n",
       "      <td>8539</td>\n",
       "      <td>6071</td>\n",
       "      <td>540</td>\n",
       "    </tr>\n",
       "    <tr>\n",
       "      <th>270</th>\n",
       "      <td>ETF Professor</td>\n",
       "      <td>101</td>\n",
       "      <td>2997</td>\n",
       "      <td>19064</td>\n",
       "      <td>6005</td>\n",
       "      <td>322</td>\n",
       "    </tr>\n",
       "    <tr>\n",
       "      <th>478</th>\n",
       "      <td>Juan Lopez</td>\n",
       "      <td>348</td>\n",
       "      <td>7396</td>\n",
       "      <td>15156</td>\n",
       "      <td>5470</td>\n",
       "      <td>68</td>\n",
       "    </tr>\n",
       "    <tr>\n",
       "      <th>907</th>\n",
       "      <td>Vick Meyer</td>\n",
       "      <td>0</td>\n",
       "      <td>8256</td>\n",
       "      <td>11107</td>\n",
       "      <td>5407</td>\n",
       "      <td>56</td>\n",
       "    </tr>\n",
       "    <tr>\n",
       "      <th>111</th>\n",
       "      <td>Benzinga_Newsdesk</td>\n",
       "      <td>110</td>\n",
       "      <td>4300</td>\n",
       "      <td>8823</td>\n",
       "      <td>5363</td>\n",
       "      <td>814</td>\n",
       "    </tr>\n",
       "    <tr>\n",
       "      <th>34</th>\n",
       "      <td>Allie Wickman</td>\n",
       "      <td>125</td>\n",
       "      <td>1894</td>\n",
       "      <td>10798</td>\n",
       "      <td>4992</td>\n",
       "      <td>508</td>\n",
       "    </tr>\n",
       "    <tr>\n",
       "      <th>942</th>\n",
       "      <td>Zacks</td>\n",
       "      <td>76</td>\n",
       "      <td>1777</td>\n",
       "      <td>12270</td>\n",
       "      <td>4980</td>\n",
       "      <td>287</td>\n",
       "    </tr>\n",
       "    <tr>\n",
       "      <th>777</th>\n",
       "      <td>Shanthi Rexaline</td>\n",
       "      <td>303</td>\n",
       "      <td>3494</td>\n",
       "      <td>7663</td>\n",
       "      <td>4781</td>\n",
       "      <td>399</td>\n",
       "    </tr>\n",
       "    <tr>\n",
       "      <th>266</th>\n",
       "      <td>Dwight Einhorn</td>\n",
       "      <td>97</td>\n",
       "      <td>2075</td>\n",
       "      <td>5088</td>\n",
       "      <td>4472</td>\n",
       "      <td>494</td>\n",
       "    </tr>\n",
       "    <tr>\n",
       "      <th>1033</th>\n",
       "      <td>webmaster</td>\n",
       "      <td>143</td>\n",
       "      <td>2886</td>\n",
       "      <td>12751</td>\n",
       "      <td>4425</td>\n",
       "      <td>108</td>\n",
       "    </tr>\n",
       "    <tr>\n",
       "      <th>639</th>\n",
       "      <td>Nelson Hem</td>\n",
       "      <td>8</td>\n",
       "      <td>376</td>\n",
       "      <td>7747</td>\n",
       "      <td>4272</td>\n",
       "      <td>187</td>\n",
       "    </tr>\n",
       "  </tbody>\n",
       "</table>\n",
       "</div>"
      ],
      "text/plain": [
       "sentiment_category          publisher  very-negative  negative  neutral  \\\n",
       "686                     Paul Quintaro            989     23538   133566   \n",
       "532                        Lisa Levin            187     30919   108868   \n",
       "96                  Benzinga Newsdesk           1883     35795    62776   \n",
       "169                     Charles Gross            676     11455    42990   \n",
       "622                     Monica Gerson             83     10234    41393   \n",
       "275                      Eddie Staley            226      6874    31856   \n",
       "353                        Hal Lindon            187      4382    28597   \n",
       "98                     Benzinga Staff             68      2174    17715   \n",
       "208                       Craig Jones             20       851     8365   \n",
       "418                    Jayson Derrick            211      3689     8539   \n",
       "270                     ETF Professor            101      2997    19064   \n",
       "478                        Juan Lopez            348      7396    15156   \n",
       "907                        Vick Meyer              0      8256    11107   \n",
       "111                 Benzinga_Newsdesk            110      4300     8823   \n",
       "34                      Allie Wickman            125      1894    10798   \n",
       "942                             Zacks             76      1777    12270   \n",
       "777                  Shanthi Rexaline            303      3494     7663   \n",
       "266                    Dwight Einhorn             97      2075     5088   \n",
       "1033                        webmaster            143      2886    12751   \n",
       "639                        Nelson Hem              8       376     7747   \n",
       "\n",
       "sentiment_category  positive  very-positive  \n",
       "686                    64718           5562  \n",
       "532                    45743           1262  \n",
       "96                     42343           7687  \n",
       "169                    39711           1900  \n",
       "622                    30124            546  \n",
       "275                    16807           1491  \n",
       "353                    14578           1303  \n",
       "98                      7588            569  \n",
       "208                     6905             80  \n",
       "418                     6071            540  \n",
       "270                     6005            322  \n",
       "478                     5470             68  \n",
       "907                     5407             56  \n",
       "111                     5363            814  \n",
       "34                      4992            508  \n",
       "942                     4980            287  \n",
       "777                     4781            399  \n",
       "266                     4472            494  \n",
       "1033                    4425            108  \n",
       "639                     4272            187  "
      ]
     },
     "execution_count": 212,
     "metadata": {},
     "output_type": "execute_result"
    }
   ],
   "source": [
    "sentiment_counts.sort_values(by='positive' , ascending=False).head(20)"
   ]
  },
  {
   "cell_type": "markdown",
   "metadata": {},
   "source": [
    "* Let us see the top 20 publisher with a headline that has a negative sentiment"
   ]
  },
  {
   "cell_type": "code",
   "execution_count": 213,
   "metadata": {},
   "outputs": [
    {
     "data": {
      "text/html": [
       "<div>\n",
       "<style scoped>\n",
       "    .dataframe tbody tr th:only-of-type {\n",
       "        vertical-align: middle;\n",
       "    }\n",
       "\n",
       "    .dataframe tbody tr th {\n",
       "        vertical-align: top;\n",
       "    }\n",
       "\n",
       "    .dataframe thead th {\n",
       "        text-align: right;\n",
       "    }\n",
       "</style>\n",
       "<table border=\"1\" class=\"dataframe\">\n",
       "  <thead>\n",
       "    <tr style=\"text-align: right;\">\n",
       "      <th>sentiment_category</th>\n",
       "      <th>publisher</th>\n",
       "      <th>very-negative</th>\n",
       "      <th>negative</th>\n",
       "      <th>neutral</th>\n",
       "      <th>positive</th>\n",
       "      <th>very-positive</th>\n",
       "    </tr>\n",
       "  </thead>\n",
       "  <tbody>\n",
       "    <tr>\n",
       "      <th>96</th>\n",
       "      <td>Benzinga Newsdesk</td>\n",
       "      <td>1883</td>\n",
       "      <td>35795</td>\n",
       "      <td>62776</td>\n",
       "      <td>42343</td>\n",
       "      <td>7687</td>\n",
       "    </tr>\n",
       "    <tr>\n",
       "      <th>532</th>\n",
       "      <td>Lisa Levin</td>\n",
       "      <td>187</td>\n",
       "      <td>30919</td>\n",
       "      <td>108868</td>\n",
       "      <td>45743</td>\n",
       "      <td>1262</td>\n",
       "    </tr>\n",
       "    <tr>\n",
       "      <th>686</th>\n",
       "      <td>Paul Quintaro</td>\n",
       "      <td>989</td>\n",
       "      <td>23538</td>\n",
       "      <td>133566</td>\n",
       "      <td>64718</td>\n",
       "      <td>5562</td>\n",
       "    </tr>\n",
       "    <tr>\n",
       "      <th>169</th>\n",
       "      <td>Charles Gross</td>\n",
       "      <td>676</td>\n",
       "      <td>11455</td>\n",
       "      <td>42990</td>\n",
       "      <td>39711</td>\n",
       "      <td>1900</td>\n",
       "    </tr>\n",
       "    <tr>\n",
       "      <th>622</th>\n",
       "      <td>Monica Gerson</td>\n",
       "      <td>83</td>\n",
       "      <td>10234</td>\n",
       "      <td>41393</td>\n",
       "      <td>30124</td>\n",
       "      <td>546</td>\n",
       "    </tr>\n",
       "    <tr>\n",
       "      <th>907</th>\n",
       "      <td>Vick Meyer</td>\n",
       "      <td>0</td>\n",
       "      <td>8256</td>\n",
       "      <td>11107</td>\n",
       "      <td>5407</td>\n",
       "      <td>56</td>\n",
       "    </tr>\n",
       "    <tr>\n",
       "      <th>478</th>\n",
       "      <td>Juan Lopez</td>\n",
       "      <td>348</td>\n",
       "      <td>7396</td>\n",
       "      <td>15156</td>\n",
       "      <td>5470</td>\n",
       "      <td>68</td>\n",
       "    </tr>\n",
       "    <tr>\n",
       "      <th>275</th>\n",
       "      <td>Eddie Staley</td>\n",
       "      <td>226</td>\n",
       "      <td>6874</td>\n",
       "      <td>31856</td>\n",
       "      <td>16807</td>\n",
       "      <td>1491</td>\n",
       "    </tr>\n",
       "    <tr>\n",
       "      <th>353</th>\n",
       "      <td>Hal Lindon</td>\n",
       "      <td>187</td>\n",
       "      <td>4382</td>\n",
       "      <td>28597</td>\n",
       "      <td>14578</td>\n",
       "      <td>1303</td>\n",
       "    </tr>\n",
       "    <tr>\n",
       "      <th>111</th>\n",
       "      <td>Benzinga_Newsdesk</td>\n",
       "      <td>110</td>\n",
       "      <td>4300</td>\n",
       "      <td>8823</td>\n",
       "      <td>5363</td>\n",
       "      <td>814</td>\n",
       "    </tr>\n",
       "    <tr>\n",
       "      <th>418</th>\n",
       "      <td>Jayson Derrick</td>\n",
       "      <td>211</td>\n",
       "      <td>3689</td>\n",
       "      <td>8539</td>\n",
       "      <td>6071</td>\n",
       "      <td>540</td>\n",
       "    </tr>\n",
       "    <tr>\n",
       "      <th>777</th>\n",
       "      <td>Shanthi Rexaline</td>\n",
       "      <td>303</td>\n",
       "      <td>3494</td>\n",
       "      <td>7663</td>\n",
       "      <td>4781</td>\n",
       "      <td>399</td>\n",
       "    </tr>\n",
       "    <tr>\n",
       "      <th>270</th>\n",
       "      <td>ETF Professor</td>\n",
       "      <td>101</td>\n",
       "      <td>2997</td>\n",
       "      <td>19064</td>\n",
       "      <td>6005</td>\n",
       "      <td>322</td>\n",
       "    </tr>\n",
       "    <tr>\n",
       "      <th>1033</th>\n",
       "      <td>webmaster</td>\n",
       "      <td>143</td>\n",
       "      <td>2886</td>\n",
       "      <td>12751</td>\n",
       "      <td>4425</td>\n",
       "      <td>108</td>\n",
       "    </tr>\n",
       "    <tr>\n",
       "      <th>98</th>\n",
       "      <td>Benzinga Staff</td>\n",
       "      <td>68</td>\n",
       "      <td>2174</td>\n",
       "      <td>17715</td>\n",
       "      <td>7588</td>\n",
       "      <td>569</td>\n",
       "    </tr>\n",
       "    <tr>\n",
       "      <th>519</th>\n",
       "      <td>Laura Brodbeck</td>\n",
       "      <td>131</td>\n",
       "      <td>2164</td>\n",
       "      <td>3310</td>\n",
       "      <td>1395</td>\n",
       "      <td>69</td>\n",
       "    </tr>\n",
       "    <tr>\n",
       "      <th>449</th>\n",
       "      <td>Joe Young</td>\n",
       "      <td>190</td>\n",
       "      <td>2149</td>\n",
       "      <td>5928</td>\n",
       "      <td>2431</td>\n",
       "      <td>79</td>\n",
       "    </tr>\n",
       "    <tr>\n",
       "      <th>922</th>\n",
       "      <td>Wayne Duggan</td>\n",
       "      <td>88</td>\n",
       "      <td>2126</td>\n",
       "      <td>6485</td>\n",
       "      <td>3883</td>\n",
       "      <td>315</td>\n",
       "    </tr>\n",
       "    <tr>\n",
       "      <th>266</th>\n",
       "      <td>Dwight Einhorn</td>\n",
       "      <td>97</td>\n",
       "      <td>2075</td>\n",
       "      <td>5088</td>\n",
       "      <td>4472</td>\n",
       "      <td>494</td>\n",
       "    </tr>\n",
       "    <tr>\n",
       "      <th>34</th>\n",
       "      <td>Allie Wickman</td>\n",
       "      <td>125</td>\n",
       "      <td>1894</td>\n",
       "      <td>10798</td>\n",
       "      <td>4992</td>\n",
       "      <td>508</td>\n",
       "    </tr>\n",
       "  </tbody>\n",
       "</table>\n",
       "</div>"
      ],
      "text/plain": [
       "sentiment_category          publisher  very-negative  negative  neutral  \\\n",
       "96                  Benzinga Newsdesk           1883     35795    62776   \n",
       "532                        Lisa Levin            187     30919   108868   \n",
       "686                     Paul Quintaro            989     23538   133566   \n",
       "169                     Charles Gross            676     11455    42990   \n",
       "622                     Monica Gerson             83     10234    41393   \n",
       "907                        Vick Meyer              0      8256    11107   \n",
       "478                        Juan Lopez            348      7396    15156   \n",
       "275                      Eddie Staley            226      6874    31856   \n",
       "353                        Hal Lindon            187      4382    28597   \n",
       "111                 Benzinga_Newsdesk            110      4300     8823   \n",
       "418                    Jayson Derrick            211      3689     8539   \n",
       "777                  Shanthi Rexaline            303      3494     7663   \n",
       "270                     ETF Professor            101      2997    19064   \n",
       "1033                        webmaster            143      2886    12751   \n",
       "98                     Benzinga Staff             68      2174    17715   \n",
       "519                    Laura Brodbeck            131      2164     3310   \n",
       "449                         Joe Young            190      2149     5928   \n",
       "922                      Wayne Duggan             88      2126     6485   \n",
       "266                    Dwight Einhorn             97      2075     5088   \n",
       "34                      Allie Wickman            125      1894    10798   \n",
       "\n",
       "sentiment_category  positive  very-positive  \n",
       "96                     42343           7687  \n",
       "532                    45743           1262  \n",
       "686                    64718           5562  \n",
       "169                    39711           1900  \n",
       "622                    30124            546  \n",
       "907                     5407             56  \n",
       "478                     5470             68  \n",
       "275                    16807           1491  \n",
       "353                    14578           1303  \n",
       "111                     5363            814  \n",
       "418                     6071            540  \n",
       "777                     4781            399  \n",
       "270                     6005            322  \n",
       "1033                    4425            108  \n",
       "98                      7588            569  \n",
       "519                     1395             69  \n",
       "449                     2431             79  \n",
       "922                     3883            315  \n",
       "266                     4472            494  \n",
       "34                      4992            508  "
      ]
     },
     "execution_count": 213,
     "metadata": {},
     "output_type": "execute_result"
    }
   ],
   "source": [
    "sentiment_counts.sort_values(by='negative' , ascending=False).head(20)"
   ]
  },
  {
   "cell_type": "markdown",
   "metadata": {},
   "source": [
    "* Let us see the top 20 publisher with a headline that has a neutral sentiment"
   ]
  },
  {
   "cell_type": "code",
   "execution_count": 214,
   "metadata": {},
   "outputs": [
    {
     "data": {
      "text/html": [
       "<div>\n",
       "<style scoped>\n",
       "    .dataframe tbody tr th:only-of-type {\n",
       "        vertical-align: middle;\n",
       "    }\n",
       "\n",
       "    .dataframe tbody tr th {\n",
       "        vertical-align: top;\n",
       "    }\n",
       "\n",
       "    .dataframe thead th {\n",
       "        text-align: right;\n",
       "    }\n",
       "</style>\n",
       "<table border=\"1\" class=\"dataframe\">\n",
       "  <thead>\n",
       "    <tr style=\"text-align: right;\">\n",
       "      <th>sentiment_category</th>\n",
       "      <th>publisher</th>\n",
       "      <th>very-negative</th>\n",
       "      <th>negative</th>\n",
       "      <th>neutral</th>\n",
       "      <th>positive</th>\n",
       "      <th>very-positive</th>\n",
       "    </tr>\n",
       "  </thead>\n",
       "  <tbody>\n",
       "    <tr>\n",
       "      <th>686</th>\n",
       "      <td>Paul Quintaro</td>\n",
       "      <td>989</td>\n",
       "      <td>23538</td>\n",
       "      <td>133566</td>\n",
       "      <td>64718</td>\n",
       "      <td>5562</td>\n",
       "    </tr>\n",
       "    <tr>\n",
       "      <th>532</th>\n",
       "      <td>Lisa Levin</td>\n",
       "      <td>187</td>\n",
       "      <td>30919</td>\n",
       "      <td>108868</td>\n",
       "      <td>45743</td>\n",
       "      <td>1262</td>\n",
       "    </tr>\n",
       "    <tr>\n",
       "      <th>96</th>\n",
       "      <td>Benzinga Newsdesk</td>\n",
       "      <td>1883</td>\n",
       "      <td>35795</td>\n",
       "      <td>62776</td>\n",
       "      <td>42343</td>\n",
       "      <td>7687</td>\n",
       "    </tr>\n",
       "    <tr>\n",
       "      <th>169</th>\n",
       "      <td>Charles Gross</td>\n",
       "      <td>676</td>\n",
       "      <td>11455</td>\n",
       "      <td>42990</td>\n",
       "      <td>39711</td>\n",
       "      <td>1900</td>\n",
       "    </tr>\n",
       "    <tr>\n",
       "      <th>622</th>\n",
       "      <td>Monica Gerson</td>\n",
       "      <td>83</td>\n",
       "      <td>10234</td>\n",
       "      <td>41393</td>\n",
       "      <td>30124</td>\n",
       "      <td>546</td>\n",
       "    </tr>\n",
       "    <tr>\n",
       "      <th>275</th>\n",
       "      <td>Eddie Staley</td>\n",
       "      <td>226</td>\n",
       "      <td>6874</td>\n",
       "      <td>31856</td>\n",
       "      <td>16807</td>\n",
       "      <td>1491</td>\n",
       "    </tr>\n",
       "    <tr>\n",
       "      <th>353</th>\n",
       "      <td>Hal Lindon</td>\n",
       "      <td>187</td>\n",
       "      <td>4382</td>\n",
       "      <td>28597</td>\n",
       "      <td>14578</td>\n",
       "      <td>1303</td>\n",
       "    </tr>\n",
       "    <tr>\n",
       "      <th>270</th>\n",
       "      <td>ETF Professor</td>\n",
       "      <td>101</td>\n",
       "      <td>2997</td>\n",
       "      <td>19064</td>\n",
       "      <td>6005</td>\n",
       "      <td>322</td>\n",
       "    </tr>\n",
       "    <tr>\n",
       "      <th>98</th>\n",
       "      <td>Benzinga Staff</td>\n",
       "      <td>68</td>\n",
       "      <td>2174</td>\n",
       "      <td>17715</td>\n",
       "      <td>7588</td>\n",
       "      <td>569</td>\n",
       "    </tr>\n",
       "    <tr>\n",
       "      <th>478</th>\n",
       "      <td>Juan Lopez</td>\n",
       "      <td>348</td>\n",
       "      <td>7396</td>\n",
       "      <td>15156</td>\n",
       "      <td>5470</td>\n",
       "      <td>68</td>\n",
       "    </tr>\n",
       "    <tr>\n",
       "      <th>1033</th>\n",
       "      <td>webmaster</td>\n",
       "      <td>143</td>\n",
       "      <td>2886</td>\n",
       "      <td>12751</td>\n",
       "      <td>4425</td>\n",
       "      <td>108</td>\n",
       "    </tr>\n",
       "    <tr>\n",
       "      <th>942</th>\n",
       "      <td>Zacks</td>\n",
       "      <td>76</td>\n",
       "      <td>1777</td>\n",
       "      <td>12270</td>\n",
       "      <td>4980</td>\n",
       "      <td>287</td>\n",
       "    </tr>\n",
       "    <tr>\n",
       "      <th>907</th>\n",
       "      <td>Vick Meyer</td>\n",
       "      <td>0</td>\n",
       "      <td>8256</td>\n",
       "      <td>11107</td>\n",
       "      <td>5407</td>\n",
       "      <td>56</td>\n",
       "    </tr>\n",
       "    <tr>\n",
       "      <th>34</th>\n",
       "      <td>Allie Wickman</td>\n",
       "      <td>125</td>\n",
       "      <td>1894</td>\n",
       "      <td>10798</td>\n",
       "      <td>4992</td>\n",
       "      <td>508</td>\n",
       "    </tr>\n",
       "    <tr>\n",
       "      <th>111</th>\n",
       "      <td>Benzinga_Newsdesk</td>\n",
       "      <td>110</td>\n",
       "      <td>4300</td>\n",
       "      <td>8823</td>\n",
       "      <td>5363</td>\n",
       "      <td>814</td>\n",
       "    </tr>\n",
       "    <tr>\n",
       "      <th>596</th>\n",
       "      <td>Michael J. Zerinskas</td>\n",
       "      <td>1</td>\n",
       "      <td>507</td>\n",
       "      <td>8803</td>\n",
       "      <td>1564</td>\n",
       "      <td>17</td>\n",
       "    </tr>\n",
       "    <tr>\n",
       "      <th>418</th>\n",
       "      <td>Jayson Derrick</td>\n",
       "      <td>211</td>\n",
       "      <td>3689</td>\n",
       "      <td>8539</td>\n",
       "      <td>6071</td>\n",
       "      <td>540</td>\n",
       "    </tr>\n",
       "    <tr>\n",
       "      <th>208</th>\n",
       "      <td>Craig Jones</td>\n",
       "      <td>20</td>\n",
       "      <td>851</td>\n",
       "      <td>8365</td>\n",
       "      <td>6905</td>\n",
       "      <td>80</td>\n",
       "    </tr>\n",
       "    <tr>\n",
       "      <th>639</th>\n",
       "      <td>Nelson Hem</td>\n",
       "      <td>8</td>\n",
       "      <td>376</td>\n",
       "      <td>7747</td>\n",
       "      <td>4272</td>\n",
       "      <td>187</td>\n",
       "    </tr>\n",
       "    <tr>\n",
       "      <th>777</th>\n",
       "      <td>Shanthi Rexaline</td>\n",
       "      <td>303</td>\n",
       "      <td>3494</td>\n",
       "      <td>7663</td>\n",
       "      <td>4781</td>\n",
       "      <td>399</td>\n",
       "    </tr>\n",
       "  </tbody>\n",
       "</table>\n",
       "</div>"
      ],
      "text/plain": [
       "sentiment_category             publisher  very-negative  negative  neutral  \\\n",
       "686                        Paul Quintaro            989     23538   133566   \n",
       "532                           Lisa Levin            187     30919   108868   \n",
       "96                     Benzinga Newsdesk           1883     35795    62776   \n",
       "169                        Charles Gross            676     11455    42990   \n",
       "622                        Monica Gerson             83     10234    41393   \n",
       "275                         Eddie Staley            226      6874    31856   \n",
       "353                           Hal Lindon            187      4382    28597   \n",
       "270                        ETF Professor            101      2997    19064   \n",
       "98                        Benzinga Staff             68      2174    17715   \n",
       "478                           Juan Lopez            348      7396    15156   \n",
       "1033                           webmaster            143      2886    12751   \n",
       "942                                Zacks             76      1777    12270   \n",
       "907                           Vick Meyer              0      8256    11107   \n",
       "34                         Allie Wickman            125      1894    10798   \n",
       "111                    Benzinga_Newsdesk            110      4300     8823   \n",
       "596                 Michael J. Zerinskas              1       507     8803   \n",
       "418                       Jayson Derrick            211      3689     8539   \n",
       "208                          Craig Jones             20       851     8365   \n",
       "639                           Nelson Hem              8       376     7747   \n",
       "777                     Shanthi Rexaline            303      3494     7663   \n",
       "\n",
       "sentiment_category  positive  very-positive  \n",
       "686                    64718           5562  \n",
       "532                    45743           1262  \n",
       "96                     42343           7687  \n",
       "169                    39711           1900  \n",
       "622                    30124            546  \n",
       "275                    16807           1491  \n",
       "353                    14578           1303  \n",
       "270                     6005            322  \n",
       "98                      7588            569  \n",
       "478                     5470             68  \n",
       "1033                    4425            108  \n",
       "942                     4980            287  \n",
       "907                     5407             56  \n",
       "34                      4992            508  \n",
       "111                     5363            814  \n",
       "596                     1564             17  \n",
       "418                     6071            540  \n",
       "208                     6905             80  \n",
       "639                     4272            187  \n",
       "777                     4781            399  "
      ]
     },
     "execution_count": 214,
     "metadata": {},
     "output_type": "execute_result"
    }
   ],
   "source": [
    "sentiment_counts.sort_values(by='neutral' , ascending=False).head(20)"
   ]
  }
 ],
 "metadata": {
  "kernelspec": {
   "display_name": "venv",
   "language": "python",
   "name": "python3"
  },
  "language_info": {
   "codemirror_mode": {
    "name": "ipython",
    "version": 3
   },
   "file_extension": ".py",
   "mimetype": "text/x-python",
   "name": "python",
   "nbconvert_exporter": "python",
   "pygments_lexer": "ipython3",
   "version": "3.10.2"
  }
 },
 "nbformat": 4,
 "nbformat_minor": 2
}
